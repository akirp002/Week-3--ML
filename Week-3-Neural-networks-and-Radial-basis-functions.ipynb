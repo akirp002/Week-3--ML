{
 "cells": [
  {
   "cell_type": "code",
   "execution_count": 44,
   "id": "b760c421",
   "metadata": {},
   "outputs": [],
   "source": [
    "from sklearn.preprocessing import normalize;from sklearn.preprocessing import MinMaxScaler;import sklearn;from sklearn.impute import SimpleImputer;import statsmodels;import statsmodels.api as sm;from statsmodels.tsa.api import VAR\n",
    "import numpy as np;import matplotlib.ticker as mticker\n",
    "import scipy as sc;from scipy import linalg;import matplotlib.pyplot as plt;import numpy as np\n",
    "from numpy import genfromtxt;from scipy.stats import beta\n",
    "from scipy.stats import norm;from scipy.stats import gamma\n",
    "from scipy.stats import invgamma;import matplotlib.pyplot as plt\n",
    "import seaborn as sns;import math;import pandas as pd;import scipy as sc;from sklearn.mixture import GaussianMixture;from sklearn.mixture import BayesianGaussianMixture;import time;\n",
    "import numpy as np;from sklearn.mixture import GaussianMixture;from sklearn import mixture\n",
    "m= np.matmul;resh = np.reshape;norm= np.random.standard_normal;inv  = np.linalg.inv ;det = np.linalg.det\n",
    "import time;import statsmodels.api as sm;from statsmodels.tsa.api import VAR\n",
    "arr = np.array;zeros = np.zeros\n",
    "import matplotlib.ticker as mtick\n",
    "import scipy.io as sio "
   ]
  },
  {
   "cell_type": "code",
   "execution_count": 45,
   "id": "7924ef3c",
   "metadata": {},
   "outputs": [],
   "source": [
    "from decimal import Decimal\n"
   ]
  },
  {
   "cell_type": "code",
   "execution_count": 46,
   "id": "5bbb9bc8",
   "metadata": {},
   "outputs": [],
   "source": [
    "import torch                                        # root package\n",
    "from torch.utils.data import Dataset, DataLoader    # dataset representation and loading"
   ]
  },
  {
   "cell_type": "code",
   "execution_count": 47,
   "id": "f316f275",
   "metadata": {},
   "outputs": [],
   "source": [
    "import torch.autograd as autograd         # computation graph\n",
    "from torch import Tensor                  # tensor node in the computation graph\n",
    "import torch.nn as nn                     # neural networks\n",
    "import torch.nn.functional as F           # layers, activations and more\n",
    "import torch.optim as optim               # optimizers e.g. gradient descent, ADAM, etc.\n",
    "from torch.jit import script, trace       # hybrid frontend decorator and tracing jit"
   ]
  },
  {
   "cell_type": "code",
   "execution_count": null,
   "id": "7dc57d0b",
   "metadata": {},
   "outputs": [],
   "source": []
  },
  {
   "cell_type": "code",
   "execution_count": 49,
   "id": "3747e9e4",
   "metadata": {},
   "outputs": [],
   "source": [
    "import pandas as pd"
   ]
  },
  {
   "cell_type": "code",
   "execution_count": 59,
   "id": "521492ee",
   "metadata": {},
   "outputs": [
    {
     "data": {
      "text/html": [
       "<div>\n",
       "<style scoped>\n",
       "    .dataframe tbody tr th:only-of-type {\n",
       "        vertical-align: middle;\n",
       "    }\n",
       "\n",
       "    .dataframe tbody tr th {\n",
       "        vertical-align: top;\n",
       "    }\n",
       "\n",
       "    .dataframe thead th {\n",
       "        text-align: right;\n",
       "    }\n",
       "</style>\n",
       "<table border=\"1\" class=\"dataframe\">\n",
       "  <thead>\n",
       "    <tr style=\"text-align: right;\">\n",
       "      <th></th>\n",
       "      <th>id</th>\n",
       "      <th>date</th>\n",
       "      <th>price</th>\n",
       "      <th>bedrooms</th>\n",
       "      <th>bathrooms</th>\n",
       "      <th>sqft_living</th>\n",
       "      <th>sqft_lot</th>\n",
       "      <th>floors</th>\n",
       "      <th>waterfront</th>\n",
       "      <th>view</th>\n",
       "      <th>...</th>\n",
       "      <th>grade</th>\n",
       "      <th>sqft_above</th>\n",
       "      <th>sqft_basement</th>\n",
       "      <th>yr_built</th>\n",
       "      <th>yr_renovated</th>\n",
       "      <th>zipcode</th>\n",
       "      <th>lat</th>\n",
       "      <th>long</th>\n",
       "      <th>sqft_living15</th>\n",
       "      <th>sqft_lot15</th>\n",
       "    </tr>\n",
       "  </thead>\n",
       "  <tbody>\n",
       "    <tr>\n",
       "      <th>0</th>\n",
       "      <td>7129300520</td>\n",
       "      <td>20141013T000000</td>\n",
       "      <td>221900.0</td>\n",
       "      <td>3</td>\n",
       "      <td>1.00</td>\n",
       "      <td>1180</td>\n",
       "      <td>5650</td>\n",
       "      <td>1.0</td>\n",
       "      <td>0</td>\n",
       "      <td>0</td>\n",
       "      <td>...</td>\n",
       "      <td>7</td>\n",
       "      <td>1180</td>\n",
       "      <td>0</td>\n",
       "      <td>1955</td>\n",
       "      <td>0</td>\n",
       "      <td>98178</td>\n",
       "      <td>47.5112</td>\n",
       "      <td>-122.257</td>\n",
       "      <td>1340</td>\n",
       "      <td>5650</td>\n",
       "    </tr>\n",
       "    <tr>\n",
       "      <th>1</th>\n",
       "      <td>6414100192</td>\n",
       "      <td>20141209T000000</td>\n",
       "      <td>538000.0</td>\n",
       "      <td>3</td>\n",
       "      <td>2.25</td>\n",
       "      <td>2570</td>\n",
       "      <td>7242</td>\n",
       "      <td>2.0</td>\n",
       "      <td>0</td>\n",
       "      <td>0</td>\n",
       "      <td>...</td>\n",
       "      <td>7</td>\n",
       "      <td>2170</td>\n",
       "      <td>400</td>\n",
       "      <td>1951</td>\n",
       "      <td>1991</td>\n",
       "      <td>98125</td>\n",
       "      <td>47.7210</td>\n",
       "      <td>-122.319</td>\n",
       "      <td>1690</td>\n",
       "      <td>7639</td>\n",
       "    </tr>\n",
       "    <tr>\n",
       "      <th>2</th>\n",
       "      <td>5631500400</td>\n",
       "      <td>20150225T000000</td>\n",
       "      <td>180000.0</td>\n",
       "      <td>2</td>\n",
       "      <td>1.00</td>\n",
       "      <td>770</td>\n",
       "      <td>10000</td>\n",
       "      <td>1.0</td>\n",
       "      <td>0</td>\n",
       "      <td>0</td>\n",
       "      <td>...</td>\n",
       "      <td>6</td>\n",
       "      <td>770</td>\n",
       "      <td>0</td>\n",
       "      <td>1933</td>\n",
       "      <td>0</td>\n",
       "      <td>98028</td>\n",
       "      <td>47.7379</td>\n",
       "      <td>-122.233</td>\n",
       "      <td>2720</td>\n",
       "      <td>8062</td>\n",
       "    </tr>\n",
       "    <tr>\n",
       "      <th>3</th>\n",
       "      <td>2487200875</td>\n",
       "      <td>20141209T000000</td>\n",
       "      <td>604000.0</td>\n",
       "      <td>4</td>\n",
       "      <td>3.00</td>\n",
       "      <td>1960</td>\n",
       "      <td>5000</td>\n",
       "      <td>1.0</td>\n",
       "      <td>0</td>\n",
       "      <td>0</td>\n",
       "      <td>...</td>\n",
       "      <td>7</td>\n",
       "      <td>1050</td>\n",
       "      <td>910</td>\n",
       "      <td>1965</td>\n",
       "      <td>0</td>\n",
       "      <td>98136</td>\n",
       "      <td>47.5208</td>\n",
       "      <td>-122.393</td>\n",
       "      <td>1360</td>\n",
       "      <td>5000</td>\n",
       "    </tr>\n",
       "    <tr>\n",
       "      <th>4</th>\n",
       "      <td>1954400510</td>\n",
       "      <td>20150218T000000</td>\n",
       "      <td>510000.0</td>\n",
       "      <td>3</td>\n",
       "      <td>2.00</td>\n",
       "      <td>1680</td>\n",
       "      <td>8080</td>\n",
       "      <td>1.0</td>\n",
       "      <td>0</td>\n",
       "      <td>0</td>\n",
       "      <td>...</td>\n",
       "      <td>8</td>\n",
       "      <td>1680</td>\n",
       "      <td>0</td>\n",
       "      <td>1987</td>\n",
       "      <td>0</td>\n",
       "      <td>98074</td>\n",
       "      <td>47.6168</td>\n",
       "      <td>-122.045</td>\n",
       "      <td>1800</td>\n",
       "      <td>7503</td>\n",
       "    </tr>\n",
       "    <tr>\n",
       "      <th>...</th>\n",
       "      <td>...</td>\n",
       "      <td>...</td>\n",
       "      <td>...</td>\n",
       "      <td>...</td>\n",
       "      <td>...</td>\n",
       "      <td>...</td>\n",
       "      <td>...</td>\n",
       "      <td>...</td>\n",
       "      <td>...</td>\n",
       "      <td>...</td>\n",
       "      <td>...</td>\n",
       "      <td>...</td>\n",
       "      <td>...</td>\n",
       "      <td>...</td>\n",
       "      <td>...</td>\n",
       "      <td>...</td>\n",
       "      <td>...</td>\n",
       "      <td>...</td>\n",
       "      <td>...</td>\n",
       "      <td>...</td>\n",
       "      <td>...</td>\n",
       "    </tr>\n",
       "    <tr>\n",
       "      <th>21608</th>\n",
       "      <td>263000018</td>\n",
       "      <td>20140521T000000</td>\n",
       "      <td>360000.0</td>\n",
       "      <td>3</td>\n",
       "      <td>2.50</td>\n",
       "      <td>1530</td>\n",
       "      <td>1131</td>\n",
       "      <td>3.0</td>\n",
       "      <td>0</td>\n",
       "      <td>0</td>\n",
       "      <td>...</td>\n",
       "      <td>8</td>\n",
       "      <td>1530</td>\n",
       "      <td>0</td>\n",
       "      <td>2009</td>\n",
       "      <td>0</td>\n",
       "      <td>98103</td>\n",
       "      <td>47.6993</td>\n",
       "      <td>-122.346</td>\n",
       "      <td>1530</td>\n",
       "      <td>1509</td>\n",
       "    </tr>\n",
       "    <tr>\n",
       "      <th>21609</th>\n",
       "      <td>6600060120</td>\n",
       "      <td>20150223T000000</td>\n",
       "      <td>400000.0</td>\n",
       "      <td>4</td>\n",
       "      <td>2.50</td>\n",
       "      <td>2310</td>\n",
       "      <td>5813</td>\n",
       "      <td>2.0</td>\n",
       "      <td>0</td>\n",
       "      <td>0</td>\n",
       "      <td>...</td>\n",
       "      <td>8</td>\n",
       "      <td>2310</td>\n",
       "      <td>0</td>\n",
       "      <td>2014</td>\n",
       "      <td>0</td>\n",
       "      <td>98146</td>\n",
       "      <td>47.5107</td>\n",
       "      <td>-122.362</td>\n",
       "      <td>1830</td>\n",
       "      <td>7200</td>\n",
       "    </tr>\n",
       "    <tr>\n",
       "      <th>21610</th>\n",
       "      <td>1523300141</td>\n",
       "      <td>20140623T000000</td>\n",
       "      <td>402101.0</td>\n",
       "      <td>2</td>\n",
       "      <td>0.75</td>\n",
       "      <td>1020</td>\n",
       "      <td>1350</td>\n",
       "      <td>2.0</td>\n",
       "      <td>0</td>\n",
       "      <td>0</td>\n",
       "      <td>...</td>\n",
       "      <td>7</td>\n",
       "      <td>1020</td>\n",
       "      <td>0</td>\n",
       "      <td>2009</td>\n",
       "      <td>0</td>\n",
       "      <td>98144</td>\n",
       "      <td>47.5944</td>\n",
       "      <td>-122.299</td>\n",
       "      <td>1020</td>\n",
       "      <td>2007</td>\n",
       "    </tr>\n",
       "    <tr>\n",
       "      <th>21611</th>\n",
       "      <td>291310100</td>\n",
       "      <td>20150116T000000</td>\n",
       "      <td>400000.0</td>\n",
       "      <td>3</td>\n",
       "      <td>2.50</td>\n",
       "      <td>1600</td>\n",
       "      <td>2388</td>\n",
       "      <td>2.0</td>\n",
       "      <td>0</td>\n",
       "      <td>0</td>\n",
       "      <td>...</td>\n",
       "      <td>8</td>\n",
       "      <td>1600</td>\n",
       "      <td>0</td>\n",
       "      <td>2004</td>\n",
       "      <td>0</td>\n",
       "      <td>98027</td>\n",
       "      <td>47.5345</td>\n",
       "      <td>-122.069</td>\n",
       "      <td>1410</td>\n",
       "      <td>1287</td>\n",
       "    </tr>\n",
       "    <tr>\n",
       "      <th>21612</th>\n",
       "      <td>1523300157</td>\n",
       "      <td>20141015T000000</td>\n",
       "      <td>325000.0</td>\n",
       "      <td>2</td>\n",
       "      <td>0.75</td>\n",
       "      <td>1020</td>\n",
       "      <td>1076</td>\n",
       "      <td>2.0</td>\n",
       "      <td>0</td>\n",
       "      <td>0</td>\n",
       "      <td>...</td>\n",
       "      <td>7</td>\n",
       "      <td>1020</td>\n",
       "      <td>0</td>\n",
       "      <td>2008</td>\n",
       "      <td>0</td>\n",
       "      <td>98144</td>\n",
       "      <td>47.5941</td>\n",
       "      <td>-122.299</td>\n",
       "      <td>1020</td>\n",
       "      <td>1357</td>\n",
       "    </tr>\n",
       "  </tbody>\n",
       "</table>\n",
       "<p>21613 rows × 21 columns</p>\n",
       "</div>"
      ],
      "text/plain": [
       "               id             date     price  bedrooms  bathrooms  \\\n",
       "0      7129300520  20141013T000000  221900.0         3       1.00   \n",
       "1      6414100192  20141209T000000  538000.0         3       2.25   \n",
       "2      5631500400  20150225T000000  180000.0         2       1.00   \n",
       "3      2487200875  20141209T000000  604000.0         4       3.00   \n",
       "4      1954400510  20150218T000000  510000.0         3       2.00   \n",
       "...           ...              ...       ...       ...        ...   \n",
       "21608   263000018  20140521T000000  360000.0         3       2.50   \n",
       "21609  6600060120  20150223T000000  400000.0         4       2.50   \n",
       "21610  1523300141  20140623T000000  402101.0         2       0.75   \n",
       "21611   291310100  20150116T000000  400000.0         3       2.50   \n",
       "21612  1523300157  20141015T000000  325000.0         2       0.75   \n",
       "\n",
       "       sqft_living  sqft_lot  floors  waterfront  view  ...  grade  \\\n",
       "0             1180      5650     1.0           0     0  ...      7   \n",
       "1             2570      7242     2.0           0     0  ...      7   \n",
       "2              770     10000     1.0           0     0  ...      6   \n",
       "3             1960      5000     1.0           0     0  ...      7   \n",
       "4             1680      8080     1.0           0     0  ...      8   \n",
       "...            ...       ...     ...         ...   ...  ...    ...   \n",
       "21608         1530      1131     3.0           0     0  ...      8   \n",
       "21609         2310      5813     2.0           0     0  ...      8   \n",
       "21610         1020      1350     2.0           0     0  ...      7   \n",
       "21611         1600      2388     2.0           0     0  ...      8   \n",
       "21612         1020      1076     2.0           0     0  ...      7   \n",
       "\n",
       "       sqft_above  sqft_basement  yr_built  yr_renovated  zipcode      lat  \\\n",
       "0            1180              0      1955             0    98178  47.5112   \n",
       "1            2170            400      1951          1991    98125  47.7210   \n",
       "2             770              0      1933             0    98028  47.7379   \n",
       "3            1050            910      1965             0    98136  47.5208   \n",
       "4            1680              0      1987             0    98074  47.6168   \n",
       "...           ...            ...       ...           ...      ...      ...   \n",
       "21608        1530              0      2009             0    98103  47.6993   \n",
       "21609        2310              0      2014             0    98146  47.5107   \n",
       "21610        1020              0      2009             0    98144  47.5944   \n",
       "21611        1600              0      2004             0    98027  47.5345   \n",
       "21612        1020              0      2008             0    98144  47.5941   \n",
       "\n",
       "          long  sqft_living15  sqft_lot15  \n",
       "0     -122.257           1340        5650  \n",
       "1     -122.319           1690        7639  \n",
       "2     -122.233           2720        8062  \n",
       "3     -122.393           1360        5000  \n",
       "4     -122.045           1800        7503  \n",
       "...        ...            ...         ...  \n",
       "21608 -122.346           1530        1509  \n",
       "21609 -122.362           1830        7200  \n",
       "21610 -122.299           1020        2007  \n",
       "21611 -122.069           1410        1287  \n",
       "21612 -122.299           1020        1357  \n",
       "\n",
       "[21613 rows x 21 columns]"
      ]
     },
     "execution_count": 59,
     "metadata": {},
     "output_type": "execute_result"
    }
   ],
   "source": [
    "df_house = pd.read_csv('/Users/ajay/Desktop/kc_house_data.csv')\n",
    "df_house.shape\n",
    "df_house\n"
   ]
  },
  {
   "cell_type": "code",
   "execution_count": 62,
   "id": "9e2e9843",
   "metadata": {},
   "outputs": [
    {
     "data": {
      "text/plain": [
       "10806"
      ]
     },
     "execution_count": 62,
     "metadata": {},
     "output_type": "execute_result"
    }
   ],
   "source": [
    "nrows = df_house.shape[0]\n",
    "train_dim = int(.5*nrows)  \n",
    "ncol = df_house.shape[1]\n",
    "train_dim"
   ]
  },
  {
   "cell_type": "code",
   "execution_count": null,
   "id": "a25bb365",
   "metadata": {},
   "outputs": [],
   "source": []
  },
  {
   "cell_type": "code",
   "execution_count": 63,
   "id": "cc2603b8",
   "metadata": {
    "scrolled": true
   },
   "outputs": [
    {
     "name": "stdout",
     "output_type": "stream",
     "text": [
      "Column name, Number of Unique, Data type\n",
      "0 id 10714 int64\n",
      "1 date 351 object\n",
      "2 price 2601 float64\n",
      "3 bedrooms 11 int64\n",
      "4 bathrooms 28 float64\n",
      "5 sqft_living 673 int64\n",
      "6 sqft_lot 5917 int64\n",
      "7 floors 6 float64\n",
      "8 waterfront 2 int64\n",
      "9 view 5 int64\n",
      "10 condition 5 int64\n",
      "11 grade 11 int64\n",
      "12 sqft_above 609 int64\n",
      "13 sqft_basement 242 int64\n",
      "14 yr_built 116 int64\n",
      "15 yr_renovated 64 int64\n",
      "16 zipcode 70 int64\n",
      "17 lat 4311 float64\n",
      "18 long 681 float64\n",
      "19 sqft_living15 540 int64\n",
      "20 sqft_lot15 5462 int64\n"
     ]
    }
   ],
   "source": [
    "cata_list = []\n",
    "#cata_list.append(df_sales.iloc[:,idxx].unique()) \n",
    "#cata_list.append(df_sales.iloc[:,55].unique())\n",
    "idx_type = np.array([df_house.dtypes.shape[0]])\n",
    "print('Column name,','Number of Unique,','Data type')\n",
    "for i in range(int(df_house.dtypes.shape[0])):\n",
    "    #print(i,df_sales.dtypes[i])\n",
    "    print(i,df_house.columns[i],int(df_house.iloc[:train_dim,i].unique().shape[0]),df_house.dtypes[i])\n",
    "    #idx_type[i] = df_sales.dtypes[i]\n",
    "    #int(df_sales.dtypes.shape)\n",
    "\n",
    "    \n",
    "\n",
    "\n"
   ]
  },
  {
   "cell_type": "code",
   "execution_count": 67,
   "id": "21ad1597",
   "metadata": {},
   "outputs": [],
   "source": [
    "idx_non_categorial = [3,4,5,6,11,12,13,14,15,17,18,19,20]\n",
    "idx_categorical = [7,8,9,10,16]"
   ]
  },
  {
   "cell_type": "code",
   "execution_count": 68,
   "id": "799b13a8",
   "metadata": {},
   "outputs": [],
   "source": [
    "#df_house.iloc[:,idx_non_categorial]"
   ]
  },
  {
   "cell_type": "code",
   "execution_count": 69,
   "id": "038d8ad0",
   "metadata": {},
   "outputs": [
    {
     "name": "stdout",
     "output_type": "stream",
     "text": [
      "XX_categorical (7204, 88)\n",
      "XX_numerical (7204, 13)\n",
      "XX_categorical (14409, 88)\n",
      "XX_numerical (14409, 13)\n"
     ]
    }
   ],
   "source": [
    "train_pcg = 1/3\n",
    "n_dim = int(df_house.shape[0])\n",
    "df_train  = df_house.iloc[0:int(train_pcg*n_dim),:]\n",
    "df_test  = df_house.iloc[int(train_pcg*n_dim):,:]\n",
    "def generate_data(df,idx_categorical):\n",
    "    X = []\n",
    "    for i in range(len(idx_categorical)):\n",
    "        dummies = pd.get_dummies(df.iloc[:,idx_categorical[i]])\n",
    "        X.append(np.array(dummies))\n",
    "    for i in range(len(X)):\n",
    "        if i ==0:\n",
    "            XX_categorical = np.hstack([X[i]])\n",
    "        else:\n",
    "            XX_categorical = np.hstack([XX_categorical,X[i]])\n",
    "    XX_numerical = np.array(df.iloc[:,idx_non_categorial])\n",
    "\n",
    "    print('XX_categorical',XX_categorical.shape) \n",
    "    print('XX_numerical',XX_numerical.shape) \n",
    "    XX = np.hstack([XX_numerical,XX_categorical])\n",
    "    YY = np.array(df.iloc[:,2])\n",
    "    return XX,YY\n",
    "\n",
    "XX_train,YY_train = generate_data(df_train,idx_categorical)\n",
    "XX_test,YY_test = generate_data(df_test,idx_categorical)\n"
   ]
  },
  {
   "cell_type": "code",
   "execution_count": 78,
   "id": "93b0b22b",
   "metadata": {},
   "outputs": [
    {
     "data": {
      "text/plain": [
       "(7204,)"
      ]
     },
     "execution_count": 78,
     "metadata": {},
     "output_type": "execute_result"
    }
   ],
   "source": [
    "YY_train.shape"
   ]
  },
  {
   "cell_type": "code",
   "execution_count": 79,
   "id": "550e93e6",
   "metadata": {},
   "outputs": [],
   "source": [
    "#df_train.shape\n",
    "#idx_categorical"
   ]
  },
  {
   "cell_type": "code",
   "execution_count": null,
   "id": "909dac1c",
   "metadata": {},
   "outputs": [],
   "source": []
  },
  {
   "cell_type": "code",
   "execution_count": 80,
   "id": "a9bae939",
   "metadata": {},
   "outputs": [
    {
     "name": "stdout",
     "output_type": "stream",
     "text": [
      "Trained OLS Mean Squared Error 265043819481530.84\n",
      "Test OLS Mean Squared Error 320455899763731.0\n"
     ]
    }
   ],
   "source": [
    "\n",
    "Beta = m(m(np.linalg.inv(m(XX_train.T,XX_train)),XX_train.T),resh(YY_train,[-1,1]))\n",
    "print('Trained OLS Mean Squared Error',np.mean((resh(YY_train,[-1,1]) - m(XX_train,Beta))**2))\n",
    "print('Test OLS Mean Squared Error',np.mean((resh(YY_test,[-1,1]) - m(XX_test,Beta))**2))"
   ]
  },
  {
   "cell_type": "code",
   "execution_count": 81,
   "id": "1db1926f",
   "metadata": {},
   "outputs": [
    {
     "data": {
      "text/plain": [
       "'3.20456E+14'"
      ]
     },
     "execution_count": 81,
     "metadata": {},
     "output_type": "execute_result"
    }
   ],
   "source": [
    "#Decimal(np.mean((resh(YY_test,[-1,1]) - m(XX_test,Beta))**2))\n",
    "xx = (np.mean((resh(YY_test,[-1,1]) - m(XX_test,Beta))**2))\n",
    "'{:.5E}'.format(xx)"
   ]
  },
  {
   "cell_type": "code",
   "execution_count": null,
   "id": "44bab095",
   "metadata": {},
   "outputs": [],
   "source": []
  },
  {
   "cell_type": "code",
   "execution_count": null,
   "id": "c4d3a68a",
   "metadata": {},
   "outputs": [],
   "source": []
  },
  {
   "cell_type": "code",
   "execution_count": 83,
   "id": "5452fcad",
   "metadata": {},
   "outputs": [
    {
     "name": "stdout",
     "output_type": "stream",
     "text": [
      "Trained OLS Mean Squared Error 2.40983E+13\n",
      "Test OLS Mean Squared Error 5.56563E+13\n"
     ]
    }
   ],
   "source": [
    "XX_train_transform = (XX_train/resh(np.mean(XX_train,1),[-1,1]))\n",
    "XX_test_transform = (XX_test/resh(np.mean(XX_test,1),[-1,1]))\n",
    "\n",
    "Beta = m(m(np.linalg.inv(m(XX_train_transform.T,XX_train_transform)),XX_train_transform.T),resh(YY_train,[-1,1]))\n",
    "err_train = np.mean((resh(YY_train,[-1,1]) - m(XX_train_transform,Beta))**2)\n",
    "err_test = np.mean((resh(YY_test,[-1,1]) - m(XX_test_transform,Beta))**2)\n",
    "\n",
    "print('Trained OLS Mean Squared Error','{:.5E}'.format(err_train))\n",
    "print('Test OLS Mean Squared Error','{:.5E}'.format(err_test) )"
   ]
  },
  {
   "cell_type": "code",
   "execution_count": null,
   "id": "a1b9f1ba",
   "metadata": {},
   "outputs": [],
   "source": []
  },
  {
   "cell_type": "code",
   "execution_count": 84,
   "id": "afbcd284",
   "metadata": {},
   "outputs": [],
   "source": [
    "#### Let's Try Radial Basis Function ###"
   ]
  },
  {
   "cell_type": "code",
   "execution_count": 86,
   "id": "c35963bb",
   "metadata": {},
   "outputs": [],
   "source": [
    "from sklearn.datasets import make_friedman2\n",
    "from sklearn.gaussian_process import GaussianProcessRegressor\n",
    "from sklearn.gaussian_process.kernels import DotProduct, WhiteKernel\n",
    "from sklearn.gaussian_process.kernels import RBF"
   ]
  },
  {
   "cell_type": "code",
   "execution_count": 87,
   "id": "44488e65",
   "metadata": {},
   "outputs": [
    {
     "name": "stderr",
     "output_type": "stream",
     "text": [
      "/usr/local/lib/python3.9/site-packages/sklearn/gaussian_process/kernels.py:411: ConvergenceWarning: The optimal value found for dimension 0 of parameter k1__constant_value is close to the specified upper bound 100000.0. Increasing the bound and calling fit again may find a better value.\n",
      "  warnings.warn(\"The optimal value found for \"\n",
      "/usr/local/lib/python3.9/site-packages/sklearn/gaussian_process/kernels.py:402: ConvergenceWarning: The optimal value found for dimension 0 of parameter k2__length_scale is close to the specified lower bound 1e-05. Decreasing the bound and calling fit again may find a better value.\n",
      "  warnings.warn(\"The optimal value found for \"\n"
     ]
    }
   ],
   "source": [
    "kernel = 1.0 * RBF(1.0)\n",
    "#gpc = GaussianProcessRegressor(kernel=kernel,\n",
    "#random_state=0).fit(XX_train_transform, YY_train)\n",
    "#kernel = DotProduct() + WhiteKernel()\n",
    "gpr = GaussianProcessRegressor(kernel=kernel,\n",
    "random_state=0).fit(XX_train_transform, YY_train)"
   ]
  },
  {
   "cell_type": "code",
   "execution_count": 23,
   "id": "b5d777fa",
   "metadata": {},
   "outputs": [],
   "source": [
    "YY_train_hat = gpr.predict(XX_train_transform, return_std=False)"
   ]
  },
  {
   "cell_type": "code",
   "execution_count": 88,
   "id": "ce589e56",
   "metadata": {},
   "outputs": [],
   "source": [
    "YY_test_hat = gpr.predict(XX_test_transform, return_std=False)"
   ]
  },
  {
   "cell_type": "code",
   "execution_count": 89,
   "id": "5091f7c5",
   "metadata": {},
   "outputs": [
    {
     "name": "stdout",
     "output_type": "stream",
     "text": [
      "Trained RBF Mean Squared Error 1.06824E+08\n",
      "Test RBF Mean Squared Error 4.25782E+11\n"
     ]
    }
   ],
   "source": [
    "err_train = np.mean((YY_train-YY_train_hat)**2)\n",
    "err_test = np.mean((YY_test-YY_test_hat)**2)\n",
    "\n",
    "print('Trained RBF Mean Squared Error','{:.5E}'.format(err_train))\n",
    "print('Test RBF Mean Squared Error','{:.5E}'.format(err_test))\n",
    "\n"
   ]
  },
  {
   "cell_type": "code",
   "execution_count": 26,
   "id": "1dd42516",
   "metadata": {},
   "outputs": [],
   "source": [
    "##### Let's Create our First Neural Network #######"
   ]
  },
  {
   "cell_type": "code",
   "execution_count": 92,
   "id": "dc47e5d4",
   "metadata": {},
   "outputs": [],
   "source": [
    "import torch\n",
    "import torch.nn as nn\n",
    "import torch.nn.functional as F\n",
    "\n",
    "\n",
    "class Net():\n",
    "    def __init__(self,input_dim,h1,h2,output_dim):\n",
    "        self.input_dim = input_dim\n",
    "        self.h1 = h1\n",
    "        self.h2 = h2\n",
    "        self.output_dim = output_dim\n",
    "        #(input_dim,h1,h2,output_dim)\n",
    "        self.fc1 = nn.Sequential(\n",
    "            nn.Linear(input_dim, h1, bias=True),\n",
    "            nn.ReLU(inplace=True),\n",
    "            #nn.Dropout2d(p=0.5),\n",
    "            nn.Linear(h1, h2, bias=True),\n",
    "            nn.ReLU(inplace=True),           \n",
    "            #nn.Dropout2d(p=0.5),\n",
    "            nn.Linear(h2, output_dim, bias=True)  \n",
    "            )\n",
    "    def forward(self,x):\n",
    "        #print('Hello, my name is', self.name)\n",
    "        y_pred = self.fc1(x)\n",
    "        return y_pred\n",
    "    def errs(self,y_pred,y):\n",
    "        sse = torch.sum((y_pred -y)**2)\n",
    "        return sse\n",
    "\n",
    "input_dim = int(XX_train.shape[1])\n",
    "h1 =20\n",
    "h2 = 10\n",
    "output_dim = 1\n",
    "net = Net(input_dim,h1,h2,output_dim)\n",
    "#optimizer = optim.Adam(net.parameters(), lr=0.0001)    \n",
    "#y_pred = net.forward(torch.from_numpy(XX_train.astype(np.float32)))\n",
    "#net.errs(y_pred,torch.from_numpy(YY_train.astype(np.float32)))\n",
    "#optimizer.step()\n",
    "#optimizer = torch.optim.SGD(net.parameters(), lr=0.1)\n"
   ]
  },
  {
   "cell_type": "code",
   "execution_count": 93,
   "id": "ba04f8e0",
   "metadata": {},
   "outputs": [],
   "source": [
    "#torch.from_numpy(YY_train.astype(np.float32))"
   ]
  },
  {
   "cell_type": "code",
   "execution_count": 94,
   "id": "d3e456e6",
   "metadata": {},
   "outputs": [],
   "source": [
    "#XX_train.shape"
   ]
  },
  {
   "cell_type": "code",
   "execution_count": 95,
   "id": "4c0a3e59",
   "metadata": {},
   "outputs": [],
   "source": [
    "import torch.nn as nn\n",
    "class Net(nn.Module):\n",
    "    def __init__(self,input,H1,H2,output):\n",
    "        super(Net,self).__init__()\n",
    "        self.fc1 = nn.Sequential(\n",
    "            #nn.Dropout2d(p=0.5),\n",
    "            nn.Linear(input_dim, H1, bias=True),  \n",
    "            nn.Linear(H1,H2, bias=False),  \n",
    "            nn.Hardshrink(lambd=0.5),            \n",
    "            nn.Linear(H2,output_dim, bias=False),\n",
    "            #nn.PReLU()\n",
    "            #nn.(),\n",
    "\n",
    "            )\n",
    "    def forward(self,x):\n",
    "        y_pred = self.fc1(x)\n",
    "        return y_pred\n",
    "\n",
    "    def errs(self,y_pred,y):\n",
    "        sse = torch.mean((y_pred -y)**2)\n",
    "        return sse\n"
   ]
  },
  {
   "cell_type": "code",
   "execution_count": null,
   "id": "9472ea1a",
   "metadata": {},
   "outputs": [],
   "source": []
  },
  {
   "cell_type": "code",
   "execution_count": 96,
   "id": "dd398038",
   "metadata": {},
   "outputs": [
    {
     "data": {
      "text/plain": [
       "torch.Tensor"
      ]
     },
     "execution_count": 96,
     "metadata": {},
     "output_type": "execute_result"
    }
   ],
   "source": [
    "clf=Net(input_dim,3,2,output_dim)\n",
    "optimizer = torch.optim.Adamax(clf.parameters(), lr=1e-1)\n",
    "outputs = clf(torch.from_numpy(XX_train_transform.astype(np.float32)))\n",
    "loss = clf.errs(outputs, torch.from_numpy(YY_train.astype(np.float32)))\n",
    "type(loss)"
   ]
  },
  {
   "cell_type": "code",
   "execution_count": 97,
   "id": "221bd56e",
   "metadata": {},
   "outputs": [
    {
     "name": "stdout",
     "output_type": "stream",
     "text": [
      "tensor(4.2770e+11, grad_fn=<MeanBackward0>)\n",
      "tensor(4.2682e+11, grad_fn=<MeanBackward0>)\n",
      "tensor(4.2090e+11, grad_fn=<MeanBackward0>)\n",
      "tensor(4.0148e+11, grad_fn=<MeanBackward0>)\n",
      "tensor(3.5784e+11, grad_fn=<MeanBackward0>)\n",
      "tensor(2.8354e+11, grad_fn=<MeanBackward0>)\n",
      "tensor(1.9038e+11, grad_fn=<MeanBackward0>)\n",
      "tensor(1.4112e+11, grad_fn=<MeanBackward0>)\n",
      "tensor(3.1616e+11, grad_fn=<MeanBackward0>)\n",
      "tensor(4.4633e+11, grad_fn=<MeanBackward0>)\n",
      "tensor(2.0188e+11, grad_fn=<MeanBackward0>)\n",
      "tensor(1.4603e+11, grad_fn=<MeanBackward0>)\n",
      "tensor(2.3864e+11, grad_fn=<MeanBackward0>)\n",
      "tensor(3.3712e+11, grad_fn=<MeanBackward0>)\n",
      "tensor(3.9509e+11, grad_fn=<MeanBackward0>)\n",
      "tensor(4.2039e+11, grad_fn=<MeanBackward0>)\n",
      "tensor(4.2732e+11, grad_fn=<MeanBackward0>)\n",
      "tensor(4.2791e+11, grad_fn=<MeanBackward0>)\n",
      "tensor(4.3376e+11, grad_fn=<MeanBackward0>)\n",
      "tensor(4.5733e+11, grad_fn=<MeanBackward0>)\n",
      "tensor(5.1011e+11, grad_fn=<MeanBackward0>)\n",
      "tensor(5.9290e+11, grad_fn=<MeanBackward0>)\n",
      "tensor(6.7561e+11, grad_fn=<MeanBackward0>)\n",
      "tensor(6.9583e+11, grad_fn=<MeanBackward0>)\n",
      "tensor(6.2540e+11, grad_fn=<MeanBackward0>)\n",
      "tensor(5.2159e+11, grad_fn=<MeanBackward0>)\n",
      "tensor(4.5299e+11, grad_fn=<MeanBackward0>)\n",
      "tensor(4.2960e+11, grad_fn=<MeanBackward0>)\n"
     ]
    },
    {
     "ename": "KeyboardInterrupt",
     "evalue": "",
     "output_type": "error",
     "traceback": [
      "\u001b[0;31m---------------------------------------------------------------------------\u001b[0m",
      "\u001b[0;31mKeyboardInterrupt\u001b[0m                         Traceback (most recent call last)",
      "\u001b[0;32m<ipython-input-97-824772704fbb>\u001b[0m in \u001b[0;36m<module>\u001b[0;34m\u001b[0m\n\u001b[1;32m     11\u001b[0m         \u001b[0mprint\u001b[0m\u001b[0;34m(\u001b[0m\u001b[0mloss\u001b[0m\u001b[0;34m)\u001b[0m\u001b[0;34m\u001b[0m\u001b[0;34m\u001b[0m\u001b[0m\n\u001b[1;32m     12\u001b[0m     \u001b[0;31m# backward propagation\u001b[0m\u001b[0;34m\u001b[0m\u001b[0;34m\u001b[0m\u001b[0;34m\u001b[0m\u001b[0m\n\u001b[0;32m---> 13\u001b[0;31m     \u001b[0mloss\u001b[0m\u001b[0;34m.\u001b[0m\u001b[0mbackward\u001b[0m\u001b[0;34m(\u001b[0m\u001b[0;34m)\u001b[0m\u001b[0;34m\u001b[0m\u001b[0;34m\u001b[0m\u001b[0m\n\u001b[0m\u001b[1;32m     14\u001b[0m     \u001b[0;31m# optimize\u001b[0m\u001b[0;34m\u001b[0m\u001b[0;34m\u001b[0m\u001b[0;34m\u001b[0m\u001b[0m\n\u001b[1;32m     15\u001b[0m     \u001b[0moptimizer\u001b[0m\u001b[0;34m.\u001b[0m\u001b[0mstep\u001b[0m\u001b[0;34m(\u001b[0m\u001b[0;34m)\u001b[0m\u001b[0;34m\u001b[0m\u001b[0;34m\u001b[0m\u001b[0m\n",
      "\u001b[0;32m/usr/local/lib/python3.9/site-packages/torch/tensor.py\u001b[0m in \u001b[0;36mbackward\u001b[0;34m(self, gradient, retain_graph, create_graph, inputs)\u001b[0m\n\u001b[1;32m    243\u001b[0m                 \u001b[0mcreate_graph\u001b[0m\u001b[0;34m=\u001b[0m\u001b[0mcreate_graph\u001b[0m\u001b[0;34m,\u001b[0m\u001b[0;34m\u001b[0m\u001b[0;34m\u001b[0m\u001b[0m\n\u001b[1;32m    244\u001b[0m                 inputs=inputs)\n\u001b[0;32m--> 245\u001b[0;31m         \u001b[0mtorch\u001b[0m\u001b[0;34m.\u001b[0m\u001b[0mautograd\u001b[0m\u001b[0;34m.\u001b[0m\u001b[0mbackward\u001b[0m\u001b[0;34m(\u001b[0m\u001b[0mself\u001b[0m\u001b[0;34m,\u001b[0m \u001b[0mgradient\u001b[0m\u001b[0;34m,\u001b[0m \u001b[0mretain_graph\u001b[0m\u001b[0;34m,\u001b[0m \u001b[0mcreate_graph\u001b[0m\u001b[0;34m,\u001b[0m \u001b[0minputs\u001b[0m\u001b[0;34m=\u001b[0m\u001b[0minputs\u001b[0m\u001b[0;34m)\u001b[0m\u001b[0;34m\u001b[0m\u001b[0;34m\u001b[0m\u001b[0m\n\u001b[0m\u001b[1;32m    246\u001b[0m \u001b[0;34m\u001b[0m\u001b[0m\n\u001b[1;32m    247\u001b[0m     \u001b[0;32mdef\u001b[0m \u001b[0mregister_hook\u001b[0m\u001b[0;34m(\u001b[0m\u001b[0mself\u001b[0m\u001b[0;34m,\u001b[0m \u001b[0mhook\u001b[0m\u001b[0;34m)\u001b[0m\u001b[0;34m:\u001b[0m\u001b[0;34m\u001b[0m\u001b[0;34m\u001b[0m\u001b[0m\n",
      "\u001b[0;32m/usr/local/lib/python3.9/site-packages/torch/autograd/__init__.py\u001b[0m in \u001b[0;36mbackward\u001b[0;34m(tensors, grad_tensors, retain_graph, create_graph, grad_variables, inputs)\u001b[0m\n\u001b[1;32m    143\u001b[0m         \u001b[0mretain_graph\u001b[0m \u001b[0;34m=\u001b[0m \u001b[0mcreate_graph\u001b[0m\u001b[0;34m\u001b[0m\u001b[0;34m\u001b[0m\u001b[0m\n\u001b[1;32m    144\u001b[0m \u001b[0;34m\u001b[0m\u001b[0m\n\u001b[0;32m--> 145\u001b[0;31m     Variable._execution_engine.run_backward(\n\u001b[0m\u001b[1;32m    146\u001b[0m         \u001b[0mtensors\u001b[0m\u001b[0;34m,\u001b[0m \u001b[0mgrad_tensors_\u001b[0m\u001b[0;34m,\u001b[0m \u001b[0mretain_graph\u001b[0m\u001b[0;34m,\u001b[0m \u001b[0mcreate_graph\u001b[0m\u001b[0;34m,\u001b[0m \u001b[0minputs\u001b[0m\u001b[0;34m,\u001b[0m\u001b[0;34m\u001b[0m\u001b[0;34m\u001b[0m\u001b[0m\n\u001b[1;32m    147\u001b[0m         allow_unreachable=True, accumulate_grad=True)  # allow_unreachable flag\n",
      "\u001b[0;31mKeyboardInterrupt\u001b[0m: "
     ]
    }
   ],
   "source": [
    "clf=Net(input_dim,3,2,output_dim)\n",
    "optimizer = torch.optim.Adamax(clf.parameters(), lr=1e-1)\n",
    "for i in range(2000):\n",
    "    # set optimizer to zero grad to remove previous epoch gradients\n",
    "    if i==0: \n",
    "        optimizer.zero_grad()\n",
    "    # forward propagation\n",
    "    outputs = clf(torch.from_numpy(XX_train_transform.astype(np.float32)))\n",
    "    loss = clf.errs(outputs, torch.from_numpy(YY_train.astype(np.float32)))\n",
    "    if (i%20)==0:\n",
    "        print(loss)\n",
    "    # backward propagation\n",
    "    loss.backward()\n",
    "    # optimize\n",
    "    optimizer.step()\n",
    "    #if i == 0:\n",
    "    #    running_loss = 0\n",
    "    #running_loss += loss.item()\n",
    "    #with torch.no_grad():\n",
    "    #    for param in clf.parameters():\n",
    "    #        param -= 1e-10 * param.grad\n"
   ]
  },
  {
   "cell_type": "code",
   "execution_count": 101,
   "id": "78279ab0",
   "metadata": {},
   "outputs": [
    {
     "ename": "RuntimeError",
     "evalue": "mat1 and mat2 shapes cannot be multiplied (1x7204 and 101x3)",
     "output_type": "error",
     "traceback": [
      "\u001b[0;31m---------------------------------------------------------------------------\u001b[0m",
      "\u001b[0;31mRuntimeError\u001b[0m                              Traceback (most recent call last)",
      "\u001b[0;32m<ipython-input-101-eed656fb2e20>\u001b[0m in \u001b[0;36m<module>\u001b[0;34m\u001b[0m\n\u001b[0;32m----> 1\u001b[0;31m \u001b[0mclf\u001b[0m\u001b[0;34m.\u001b[0m\u001b[0mfc1\u001b[0m\u001b[0;34m(\u001b[0m\u001b[0mtorch\u001b[0m\u001b[0;34m.\u001b[0m\u001b[0mfrom_numpy\u001b[0m\u001b[0;34m(\u001b[0m\u001b[0mYY_train\u001b[0m\u001b[0;34m.\u001b[0m\u001b[0mastype\u001b[0m\u001b[0;34m(\u001b[0m\u001b[0mnp\u001b[0m\u001b[0;34m.\u001b[0m\u001b[0mfloat32\u001b[0m\u001b[0;34m)\u001b[0m\u001b[0;34m)\u001b[0m\u001b[0;34m)\u001b[0m\u001b[0;34m\u001b[0m\u001b[0;34m\u001b[0m\u001b[0m\n\u001b[0m",
      "\u001b[0;32m/usr/local/lib/python3.9/site-packages/torch/nn/modules/module.py\u001b[0m in \u001b[0;36m_call_impl\u001b[0;34m(self, *input, **kwargs)\u001b[0m\n\u001b[1;32m    887\u001b[0m             \u001b[0mresult\u001b[0m \u001b[0;34m=\u001b[0m \u001b[0mself\u001b[0m\u001b[0;34m.\u001b[0m\u001b[0m_slow_forward\u001b[0m\u001b[0;34m(\u001b[0m\u001b[0;34m*\u001b[0m\u001b[0minput\u001b[0m\u001b[0;34m,\u001b[0m \u001b[0;34m**\u001b[0m\u001b[0mkwargs\u001b[0m\u001b[0;34m)\u001b[0m\u001b[0;34m\u001b[0m\u001b[0;34m\u001b[0m\u001b[0m\n\u001b[1;32m    888\u001b[0m         \u001b[0;32melse\u001b[0m\u001b[0;34m:\u001b[0m\u001b[0;34m\u001b[0m\u001b[0;34m\u001b[0m\u001b[0m\n\u001b[0;32m--> 889\u001b[0;31m             \u001b[0mresult\u001b[0m \u001b[0;34m=\u001b[0m \u001b[0mself\u001b[0m\u001b[0;34m.\u001b[0m\u001b[0mforward\u001b[0m\u001b[0;34m(\u001b[0m\u001b[0;34m*\u001b[0m\u001b[0minput\u001b[0m\u001b[0;34m,\u001b[0m \u001b[0;34m**\u001b[0m\u001b[0mkwargs\u001b[0m\u001b[0;34m)\u001b[0m\u001b[0;34m\u001b[0m\u001b[0;34m\u001b[0m\u001b[0m\n\u001b[0m\u001b[1;32m    890\u001b[0m         for hook in itertools.chain(\n\u001b[1;32m    891\u001b[0m                 \u001b[0m_global_forward_hooks\u001b[0m\u001b[0;34m.\u001b[0m\u001b[0mvalues\u001b[0m\u001b[0;34m(\u001b[0m\u001b[0;34m)\u001b[0m\u001b[0;34m,\u001b[0m\u001b[0;34m\u001b[0m\u001b[0;34m\u001b[0m\u001b[0m\n",
      "\u001b[0;32m/usr/local/lib/python3.9/site-packages/torch/nn/modules/container.py\u001b[0m in \u001b[0;36mforward\u001b[0;34m(self, input)\u001b[0m\n\u001b[1;32m    117\u001b[0m     \u001b[0;32mdef\u001b[0m \u001b[0mforward\u001b[0m\u001b[0;34m(\u001b[0m\u001b[0mself\u001b[0m\u001b[0;34m,\u001b[0m \u001b[0minput\u001b[0m\u001b[0;34m)\u001b[0m\u001b[0;34m:\u001b[0m\u001b[0;34m\u001b[0m\u001b[0;34m\u001b[0m\u001b[0m\n\u001b[1;32m    118\u001b[0m         \u001b[0;32mfor\u001b[0m \u001b[0mmodule\u001b[0m \u001b[0;32min\u001b[0m \u001b[0mself\u001b[0m\u001b[0;34m:\u001b[0m\u001b[0;34m\u001b[0m\u001b[0;34m\u001b[0m\u001b[0m\n\u001b[0;32m--> 119\u001b[0;31m             \u001b[0minput\u001b[0m \u001b[0;34m=\u001b[0m \u001b[0mmodule\u001b[0m\u001b[0;34m(\u001b[0m\u001b[0minput\u001b[0m\u001b[0;34m)\u001b[0m\u001b[0;34m\u001b[0m\u001b[0;34m\u001b[0m\u001b[0m\n\u001b[0m\u001b[1;32m    120\u001b[0m         \u001b[0;32mreturn\u001b[0m \u001b[0minput\u001b[0m\u001b[0;34m\u001b[0m\u001b[0;34m\u001b[0m\u001b[0m\n\u001b[1;32m    121\u001b[0m \u001b[0;34m\u001b[0m\u001b[0m\n",
      "\u001b[0;32m/usr/local/lib/python3.9/site-packages/torch/nn/modules/module.py\u001b[0m in \u001b[0;36m_call_impl\u001b[0;34m(self, *input, **kwargs)\u001b[0m\n\u001b[1;32m    887\u001b[0m             \u001b[0mresult\u001b[0m \u001b[0;34m=\u001b[0m \u001b[0mself\u001b[0m\u001b[0;34m.\u001b[0m\u001b[0m_slow_forward\u001b[0m\u001b[0;34m(\u001b[0m\u001b[0;34m*\u001b[0m\u001b[0minput\u001b[0m\u001b[0;34m,\u001b[0m \u001b[0;34m**\u001b[0m\u001b[0mkwargs\u001b[0m\u001b[0;34m)\u001b[0m\u001b[0;34m\u001b[0m\u001b[0;34m\u001b[0m\u001b[0m\n\u001b[1;32m    888\u001b[0m         \u001b[0;32melse\u001b[0m\u001b[0;34m:\u001b[0m\u001b[0;34m\u001b[0m\u001b[0;34m\u001b[0m\u001b[0m\n\u001b[0;32m--> 889\u001b[0;31m             \u001b[0mresult\u001b[0m \u001b[0;34m=\u001b[0m \u001b[0mself\u001b[0m\u001b[0;34m.\u001b[0m\u001b[0mforward\u001b[0m\u001b[0;34m(\u001b[0m\u001b[0;34m*\u001b[0m\u001b[0minput\u001b[0m\u001b[0;34m,\u001b[0m \u001b[0;34m**\u001b[0m\u001b[0mkwargs\u001b[0m\u001b[0;34m)\u001b[0m\u001b[0;34m\u001b[0m\u001b[0;34m\u001b[0m\u001b[0m\n\u001b[0m\u001b[1;32m    890\u001b[0m         for hook in itertools.chain(\n\u001b[1;32m    891\u001b[0m                 \u001b[0m_global_forward_hooks\u001b[0m\u001b[0;34m.\u001b[0m\u001b[0mvalues\u001b[0m\u001b[0;34m(\u001b[0m\u001b[0;34m)\u001b[0m\u001b[0;34m,\u001b[0m\u001b[0;34m\u001b[0m\u001b[0;34m\u001b[0m\u001b[0m\n",
      "\u001b[0;32m/usr/local/lib/python3.9/site-packages/torch/nn/modules/linear.py\u001b[0m in \u001b[0;36mforward\u001b[0;34m(self, input)\u001b[0m\n\u001b[1;32m     92\u001b[0m \u001b[0;34m\u001b[0m\u001b[0m\n\u001b[1;32m     93\u001b[0m     \u001b[0;32mdef\u001b[0m \u001b[0mforward\u001b[0m\u001b[0;34m(\u001b[0m\u001b[0mself\u001b[0m\u001b[0;34m,\u001b[0m \u001b[0minput\u001b[0m\u001b[0;34m:\u001b[0m \u001b[0mTensor\u001b[0m\u001b[0;34m)\u001b[0m \u001b[0;34m->\u001b[0m \u001b[0mTensor\u001b[0m\u001b[0;34m:\u001b[0m\u001b[0;34m\u001b[0m\u001b[0;34m\u001b[0m\u001b[0m\n\u001b[0;32m---> 94\u001b[0;31m         \u001b[0;32mreturn\u001b[0m \u001b[0mF\u001b[0m\u001b[0;34m.\u001b[0m\u001b[0mlinear\u001b[0m\u001b[0;34m(\u001b[0m\u001b[0minput\u001b[0m\u001b[0;34m,\u001b[0m \u001b[0mself\u001b[0m\u001b[0;34m.\u001b[0m\u001b[0mweight\u001b[0m\u001b[0;34m,\u001b[0m \u001b[0mself\u001b[0m\u001b[0;34m.\u001b[0m\u001b[0mbias\u001b[0m\u001b[0;34m)\u001b[0m\u001b[0;34m\u001b[0m\u001b[0;34m\u001b[0m\u001b[0m\n\u001b[0m\u001b[1;32m     95\u001b[0m \u001b[0;34m\u001b[0m\u001b[0m\n\u001b[1;32m     96\u001b[0m     \u001b[0;32mdef\u001b[0m \u001b[0mextra_repr\u001b[0m\u001b[0;34m(\u001b[0m\u001b[0mself\u001b[0m\u001b[0;34m)\u001b[0m \u001b[0;34m->\u001b[0m \u001b[0mstr\u001b[0m\u001b[0;34m:\u001b[0m\u001b[0;34m\u001b[0m\u001b[0;34m\u001b[0m\u001b[0m\n",
      "\u001b[0;32m/usr/local/lib/python3.9/site-packages/torch/nn/functional.py\u001b[0m in \u001b[0;36mlinear\u001b[0;34m(input, weight, bias)\u001b[0m\n\u001b[1;32m   1751\u001b[0m     \u001b[0;32mif\u001b[0m \u001b[0mhas_torch_function_variadic\u001b[0m\u001b[0;34m(\u001b[0m\u001b[0minput\u001b[0m\u001b[0;34m,\u001b[0m \u001b[0mweight\u001b[0m\u001b[0;34m)\u001b[0m\u001b[0;34m:\u001b[0m\u001b[0;34m\u001b[0m\u001b[0;34m\u001b[0m\u001b[0m\n\u001b[1;32m   1752\u001b[0m         \u001b[0;32mreturn\u001b[0m \u001b[0mhandle_torch_function\u001b[0m\u001b[0;34m(\u001b[0m\u001b[0mlinear\u001b[0m\u001b[0;34m,\u001b[0m \u001b[0;34m(\u001b[0m\u001b[0minput\u001b[0m\u001b[0;34m,\u001b[0m \u001b[0mweight\u001b[0m\u001b[0;34m)\u001b[0m\u001b[0;34m,\u001b[0m \u001b[0minput\u001b[0m\u001b[0;34m,\u001b[0m \u001b[0mweight\u001b[0m\u001b[0;34m,\u001b[0m \u001b[0mbias\u001b[0m\u001b[0;34m=\u001b[0m\u001b[0mbias\u001b[0m\u001b[0;34m)\u001b[0m\u001b[0;34m\u001b[0m\u001b[0;34m\u001b[0m\u001b[0m\n\u001b[0;32m-> 1753\u001b[0;31m     \u001b[0;32mreturn\u001b[0m \u001b[0mtorch\u001b[0m\u001b[0;34m.\u001b[0m\u001b[0m_C\u001b[0m\u001b[0;34m.\u001b[0m\u001b[0m_nn\u001b[0m\u001b[0;34m.\u001b[0m\u001b[0mlinear\u001b[0m\u001b[0;34m(\u001b[0m\u001b[0minput\u001b[0m\u001b[0;34m,\u001b[0m \u001b[0mweight\u001b[0m\u001b[0;34m,\u001b[0m \u001b[0mbias\u001b[0m\u001b[0;34m)\u001b[0m\u001b[0;34m\u001b[0m\u001b[0;34m\u001b[0m\u001b[0m\n\u001b[0m\u001b[1;32m   1754\u001b[0m \u001b[0;34m\u001b[0m\u001b[0m\n\u001b[1;32m   1755\u001b[0m \u001b[0;34m\u001b[0m\u001b[0m\n",
      "\u001b[0;31mRuntimeError\u001b[0m: mat1 and mat2 shapes cannot be multiplied (1x7204 and 101x3)"
     ]
    }
   ],
   "source": [
    "#clf.fc1(torch.from_numpy(YY_train.astype(np.float32)))"
   ]
  },
  {
   "cell_type": "code",
   "execution_count": 98,
   "id": "b3e16c2b",
   "metadata": {},
   "outputs": [
    {
     "data": {
      "text/plain": [
       "425782000000.0"
      ]
     },
     "execution_count": 98,
     "metadata": {},
     "output_type": "execute_result"
    }
   ],
   "source": [
    "4.25782E+11"
   ]
  },
  {
   "cell_type": "code",
   "execution_count": null,
   "id": "95a31592",
   "metadata": {},
   "outputs": [],
   "source": []
  },
  {
   "cell_type": "code",
   "execution_count": null,
   "id": "b3c3c97f",
   "metadata": {},
   "outputs": [],
   "source": []
  },
  {
   "cell_type": "code",
   "execution_count": 31,
   "id": "d4563040",
   "metadata": {},
   "outputs": [],
   "source": [
    "##### Let's Try Different Data Set ####"
   ]
  },
  {
   "cell_type": "code",
   "execution_count": 33,
   "id": "c2db7a1f",
   "metadata": {},
   "outputs": [],
   "source": [
    "path = '/Users/ajay/Desktop/'\n",
    "df_wine  = pd.read_csv(path+'winequality-red.csv')\n",
    "#df_house = pd.read_csv('/Users/ajay/Desktop/kc_house_data.csv')\n"
   ]
  },
  {
   "cell_type": "code",
   "execution_count": 34,
   "id": "d21caf2b",
   "metadata": {},
   "outputs": [],
   "source": [
    "n_train = int(.5*df_wine.iloc[:,0].shape[0])\n",
    "y_train_data = np.array(df_wine.iloc[:n_train,-1]-3)\n",
    "x_train_data =np.array(df_wine.iloc[:n_train,:-1])\n",
    "y_test_data = np.array(df_wine.iloc[n_train:,-1]-3)\n",
    "x_test_data =np.array(df_wine.iloc[n_train:,:-1])\n"
   ]
  },
  {
   "cell_type": "code",
   "execution_count": 35,
   "id": "03f4f849",
   "metadata": {},
   "outputs": [],
   "source": [
    "#### Let's Try Multinomial Logistic Regression: ######\n",
    "zz_train = (x_train_data-resh(np.min(x_train_data,1),[-1,1]))/(resh(np.max(x_train_data,1),[-1,1])-\n",
    "                                                   resh(np.min(x_train_data,1),[-1,1]))\n",
    "zz_test = (x_test_data-resh(np.min(x_test_data,1),[-1,1]))/(resh(np.max(x_test_data,1),[-1,1])-\n",
    "                                                   resh(np.min(x_test_data,1),[-1,1]))\n"
   ]
  },
  {
   "cell_type": "code",
   "execution_count": 36,
   "id": "543b9971",
   "metadata": {},
   "outputs": [
    {
     "name": "stdout",
     "output_type": "stream",
     "text": [
      "accuracy: 56.49999999999999\n"
     ]
    },
    {
     "name": "stderr",
     "output_type": "stream",
     "text": [
      "/usr/local/lib/python3.9/site-packages/sklearn/linear_model/_logistic.py:763: ConvergenceWarning: lbfgs failed to converge (status=1):\n",
      "STOP: TOTAL NO. of ITERATIONS REACHED LIMIT.\n",
      "\n",
      "Increase the number of iterations (max_iter) or scale the data as shown in:\n",
      "    https://scikit-learn.org/stable/modules/preprocessing.html\n",
      "Please also refer to the documentation for alternative solver options:\n",
      "    https://scikit-learn.org/stable/modules/linear_model.html#logistic-regression\n",
      "  n_iter_i = _check_optimize_result(\n"
     ]
    }
   ],
   "source": [
    "clf = sklearn.linear_model.LogisticRegression(penalty='l2',multi_class = 'multinomial')\n",
    "clf.fit(x_train_data, y_train_data)\n",
    "errs =clf.predict(x_test_data)-y_test_data \n",
    "print('accuracy:',1e2*(np.where(errs==0)[0].shape[0]/errs.shape[0]))"
   ]
  },
  {
   "cell_type": "code",
   "execution_count": 37,
   "id": "df922b1b",
   "metadata": {},
   "outputs": [],
   "source": [
    "#### Let's Compare this to a Neural Network #####"
   ]
  },
  {
   "cell_type": "code",
   "execution_count": 38,
   "id": "990068d9",
   "metadata": {},
   "outputs": [],
   "source": [
    "class MLP_class(nn.Module):\n",
    "    def __init__(self, input_dim, H1,H2,output_dim):\n",
    "        super(MLP_class,self).__init__()\n",
    "        self.fc1 = nn.Sequential(        \n",
    "        nn.Linear(input_dim, H1,bias=True),\n",
    "        torch.nn.Dropout(p=0.6, inplace=False),\n",
    "        nn.Linear(H1, H2,bias=True),\n",
    "        torch.nn.Dropout(p=0.6, inplace=False),\n",
    "        nn.Linear(H2, output_dim), \n",
    "        #nn.Softmin(),\n",
    "        nn.Softmax()\n",
    "        )\n",
    "    def forward(self,x):\n",
    "        outputs = self.fc1(x)\n",
    "        #y_pred = torch.argmax((outputs/torch.sum(outputs)),1)\n",
    "        return outputs\n"
   ]
  },
  {
   "cell_type": "code",
   "execution_count": 39,
   "id": "4062daf3",
   "metadata": {},
   "outputs": [],
   "source": [
    "input_dim = x_train_data.shape[1]\n",
    "output_dim = np.unique(y_train_data).shape[0]\n",
    "accuracy = nn.CrossEntropyLoss()"
   ]
  },
  {
   "cell_type": "code",
   "execution_count": 40,
   "id": "e81c6578",
   "metadata": {},
   "outputs": [],
   "source": [
    "z = torch.from_numpy(x_train_data.astype(np.float32))"
   ]
  },
  {
   "cell_type": "code",
   "execution_count": 41,
   "id": "7bb138d0",
   "metadata": {},
   "outputs": [
    {
     "data": {
      "text/plain": [
       "torch.Size([799, 1])"
      ]
     },
     "execution_count": 41,
     "metadata": {},
     "output_type": "execute_result"
    }
   ],
   "source": [
    "#z - torch.min(z,1)[0]\n",
    "resh(torch.min(z,1)[0],[-1,1]).shape"
   ]
  },
  {
   "cell_type": "code",
   "execution_count": 42,
   "id": "39239258",
   "metadata": {},
   "outputs": [],
   "source": [
    "def min_max_norm(z):\n",
    "    return (z - resh(torch.min(z,1)[0],[-1,1]))/(resh(torch.max(z,1)[0],[-1,1])-resh(torch.min(z,1)[0],[-1,1]))"
   ]
  },
  {
   "cell_type": "code",
   "execution_count": null,
   "id": "ecd41e77",
   "metadata": {},
   "outputs": [],
   "source": []
  },
  {
   "cell_type": "code",
   "execution_count": 43,
   "id": "75f4de56",
   "metadata": {
    "scrolled": true
   },
   "outputs": [
    {
     "name": "stderr",
     "output_type": "stream",
     "text": [
      "/usr/local/lib/python3.9/site-packages/torch/nn/modules/container.py:119: UserWarning: Implicit dimension choice for softmax has been deprecated. Change the call to include dim=X as an argument.\n",
      "  input = module(input)\n"
     ]
    },
    {
     "name": "stdout",
     "output_type": "stream",
     "text": [
      "loss: tensor(1.8030, grad_fn=<NllLossBackward>)\n",
      "accur: 9.261576971214017\n",
      "loss: tensor(1.5467, grad_fn=<NllLossBackward>)\n",
      "accur: 49.68710888610764\n"
     ]
    },
    {
     "ename": "KeyboardInterrupt",
     "evalue": "",
     "output_type": "error",
     "traceback": [
      "\u001b[0;31m---------------------------------------------------------------------------\u001b[0m",
      "\u001b[0;31mKeyboardInterrupt\u001b[0m                         Traceback (most recent call last)",
      "\u001b[0;32m<ipython-input-43-2e443a54be55>\u001b[0m in \u001b[0;36m<module>\u001b[0;34m\u001b[0m\n\u001b[1;32m      6\u001b[0m         \u001b[0moptimizer\u001b[0m\u001b[0;34m.\u001b[0m\u001b[0mzero_grad\u001b[0m\u001b[0;34m(\u001b[0m\u001b[0;34m)\u001b[0m\u001b[0;34m\u001b[0m\u001b[0;34m\u001b[0m\u001b[0m\n\u001b[1;32m      7\u001b[0m     \u001b[0;31m# forward propagation\u001b[0m\u001b[0;34m\u001b[0m\u001b[0;34m\u001b[0m\u001b[0;34m\u001b[0m\u001b[0m\n\u001b[0;32m----> 8\u001b[0;31m     outputs = clf(  min_max_norm(torch.from_numpy(x_train_data.astype(np.float32)))\n\u001b[0m\u001b[1;32m      9\u001b[0m                  )\n\u001b[1;32m     10\u001b[0m     \u001b[0mloss\u001b[0m  \u001b[0;34m=\u001b[0m \u001b[0maccuracy\u001b[0m\u001b[0;34m(\u001b[0m\u001b[0moutputs\u001b[0m\u001b[0;34m,\u001b[0m\u001b[0mtorch\u001b[0m\u001b[0;34m.\u001b[0m\u001b[0mfrom_numpy\u001b[0m\u001b[0;34m(\u001b[0m\u001b[0my_train_data\u001b[0m\u001b[0;34m)\u001b[0m\u001b[0;34m)\u001b[0m\u001b[0;34m\u001b[0m\u001b[0;34m\u001b[0m\u001b[0m\n",
      "\u001b[0;32m/usr/local/lib/python3.9/site-packages/torch/nn/modules/module.py\u001b[0m in \u001b[0;36m_call_impl\u001b[0;34m(self, *input, **kwargs)\u001b[0m\n\u001b[1;32m    887\u001b[0m             \u001b[0mresult\u001b[0m \u001b[0;34m=\u001b[0m \u001b[0mself\u001b[0m\u001b[0;34m.\u001b[0m\u001b[0m_slow_forward\u001b[0m\u001b[0;34m(\u001b[0m\u001b[0;34m*\u001b[0m\u001b[0minput\u001b[0m\u001b[0;34m,\u001b[0m \u001b[0;34m**\u001b[0m\u001b[0mkwargs\u001b[0m\u001b[0;34m)\u001b[0m\u001b[0;34m\u001b[0m\u001b[0;34m\u001b[0m\u001b[0m\n\u001b[1;32m    888\u001b[0m         \u001b[0;32melse\u001b[0m\u001b[0;34m:\u001b[0m\u001b[0;34m\u001b[0m\u001b[0;34m\u001b[0m\u001b[0m\n\u001b[0;32m--> 889\u001b[0;31m             \u001b[0mresult\u001b[0m \u001b[0;34m=\u001b[0m \u001b[0mself\u001b[0m\u001b[0;34m.\u001b[0m\u001b[0mforward\u001b[0m\u001b[0;34m(\u001b[0m\u001b[0;34m*\u001b[0m\u001b[0minput\u001b[0m\u001b[0;34m,\u001b[0m \u001b[0;34m**\u001b[0m\u001b[0mkwargs\u001b[0m\u001b[0;34m)\u001b[0m\u001b[0;34m\u001b[0m\u001b[0;34m\u001b[0m\u001b[0m\n\u001b[0m\u001b[1;32m    890\u001b[0m         for hook in itertools.chain(\n\u001b[1;32m    891\u001b[0m                 \u001b[0m_global_forward_hooks\u001b[0m\u001b[0;34m.\u001b[0m\u001b[0mvalues\u001b[0m\u001b[0;34m(\u001b[0m\u001b[0;34m)\u001b[0m\u001b[0;34m,\u001b[0m\u001b[0;34m\u001b[0m\u001b[0;34m\u001b[0m\u001b[0m\n",
      "\u001b[0;32m<ipython-input-38-21ba592cfbf7>\u001b[0m in \u001b[0;36mforward\u001b[0;34m(self, x)\u001b[0m\n\u001b[1;32m     12\u001b[0m         )\n\u001b[1;32m     13\u001b[0m     \u001b[0;32mdef\u001b[0m \u001b[0mforward\u001b[0m\u001b[0;34m(\u001b[0m\u001b[0mself\u001b[0m\u001b[0;34m,\u001b[0m\u001b[0mx\u001b[0m\u001b[0;34m)\u001b[0m\u001b[0;34m:\u001b[0m\u001b[0;34m\u001b[0m\u001b[0;34m\u001b[0m\u001b[0m\n\u001b[0;32m---> 14\u001b[0;31m         \u001b[0moutputs\u001b[0m \u001b[0;34m=\u001b[0m \u001b[0mself\u001b[0m\u001b[0;34m.\u001b[0m\u001b[0mfc1\u001b[0m\u001b[0;34m(\u001b[0m\u001b[0mx\u001b[0m\u001b[0;34m)\u001b[0m\u001b[0;34m\u001b[0m\u001b[0;34m\u001b[0m\u001b[0m\n\u001b[0m\u001b[1;32m     15\u001b[0m         \u001b[0;31m#y_pred = torch.argmax((outputs/torch.sum(outputs)),1)\u001b[0m\u001b[0;34m\u001b[0m\u001b[0;34m\u001b[0m\u001b[0;34m\u001b[0m\u001b[0m\n\u001b[1;32m     16\u001b[0m         \u001b[0;32mreturn\u001b[0m \u001b[0moutputs\u001b[0m\u001b[0;34m\u001b[0m\u001b[0;34m\u001b[0m\u001b[0m\n",
      "\u001b[0;32m/usr/local/lib/python3.9/site-packages/torch/nn/modules/module.py\u001b[0m in \u001b[0;36m_call_impl\u001b[0;34m(self, *input, **kwargs)\u001b[0m\n\u001b[1;32m    887\u001b[0m             \u001b[0mresult\u001b[0m \u001b[0;34m=\u001b[0m \u001b[0mself\u001b[0m\u001b[0;34m.\u001b[0m\u001b[0m_slow_forward\u001b[0m\u001b[0;34m(\u001b[0m\u001b[0;34m*\u001b[0m\u001b[0minput\u001b[0m\u001b[0;34m,\u001b[0m \u001b[0;34m**\u001b[0m\u001b[0mkwargs\u001b[0m\u001b[0;34m)\u001b[0m\u001b[0;34m\u001b[0m\u001b[0;34m\u001b[0m\u001b[0m\n\u001b[1;32m    888\u001b[0m         \u001b[0;32melse\u001b[0m\u001b[0;34m:\u001b[0m\u001b[0;34m\u001b[0m\u001b[0;34m\u001b[0m\u001b[0m\n\u001b[0;32m--> 889\u001b[0;31m             \u001b[0mresult\u001b[0m \u001b[0;34m=\u001b[0m \u001b[0mself\u001b[0m\u001b[0;34m.\u001b[0m\u001b[0mforward\u001b[0m\u001b[0;34m(\u001b[0m\u001b[0;34m*\u001b[0m\u001b[0minput\u001b[0m\u001b[0;34m,\u001b[0m \u001b[0;34m**\u001b[0m\u001b[0mkwargs\u001b[0m\u001b[0;34m)\u001b[0m\u001b[0;34m\u001b[0m\u001b[0;34m\u001b[0m\u001b[0m\n\u001b[0m\u001b[1;32m    890\u001b[0m         for hook in itertools.chain(\n\u001b[1;32m    891\u001b[0m                 \u001b[0m_global_forward_hooks\u001b[0m\u001b[0;34m.\u001b[0m\u001b[0mvalues\u001b[0m\u001b[0;34m(\u001b[0m\u001b[0;34m)\u001b[0m\u001b[0;34m,\u001b[0m\u001b[0;34m\u001b[0m\u001b[0;34m\u001b[0m\u001b[0m\n",
      "\u001b[0;32m/usr/local/lib/python3.9/site-packages/torch/nn/modules/container.py\u001b[0m in \u001b[0;36mforward\u001b[0;34m(self, input)\u001b[0m\n\u001b[1;32m    117\u001b[0m     \u001b[0;32mdef\u001b[0m \u001b[0mforward\u001b[0m\u001b[0;34m(\u001b[0m\u001b[0mself\u001b[0m\u001b[0;34m,\u001b[0m \u001b[0minput\u001b[0m\u001b[0;34m)\u001b[0m\u001b[0;34m:\u001b[0m\u001b[0;34m\u001b[0m\u001b[0;34m\u001b[0m\u001b[0m\n\u001b[1;32m    118\u001b[0m         \u001b[0;32mfor\u001b[0m \u001b[0mmodule\u001b[0m \u001b[0;32min\u001b[0m \u001b[0mself\u001b[0m\u001b[0;34m:\u001b[0m\u001b[0;34m\u001b[0m\u001b[0;34m\u001b[0m\u001b[0m\n\u001b[0;32m--> 119\u001b[0;31m             \u001b[0minput\u001b[0m \u001b[0;34m=\u001b[0m \u001b[0mmodule\u001b[0m\u001b[0;34m(\u001b[0m\u001b[0minput\u001b[0m\u001b[0;34m)\u001b[0m\u001b[0;34m\u001b[0m\u001b[0;34m\u001b[0m\u001b[0m\n\u001b[0m\u001b[1;32m    120\u001b[0m         \u001b[0;32mreturn\u001b[0m \u001b[0minput\u001b[0m\u001b[0;34m\u001b[0m\u001b[0;34m\u001b[0m\u001b[0m\n\u001b[1;32m    121\u001b[0m \u001b[0;34m\u001b[0m\u001b[0m\n",
      "\u001b[0;32m/usr/local/lib/python3.9/site-packages/torch/nn/modules/module.py\u001b[0m in \u001b[0;36m_call_impl\u001b[0;34m(self, *input, **kwargs)\u001b[0m\n\u001b[1;32m    887\u001b[0m             \u001b[0mresult\u001b[0m \u001b[0;34m=\u001b[0m \u001b[0mself\u001b[0m\u001b[0;34m.\u001b[0m\u001b[0m_slow_forward\u001b[0m\u001b[0;34m(\u001b[0m\u001b[0;34m*\u001b[0m\u001b[0minput\u001b[0m\u001b[0;34m,\u001b[0m \u001b[0;34m**\u001b[0m\u001b[0mkwargs\u001b[0m\u001b[0;34m)\u001b[0m\u001b[0;34m\u001b[0m\u001b[0;34m\u001b[0m\u001b[0m\n\u001b[1;32m    888\u001b[0m         \u001b[0;32melse\u001b[0m\u001b[0;34m:\u001b[0m\u001b[0;34m\u001b[0m\u001b[0;34m\u001b[0m\u001b[0m\n\u001b[0;32m--> 889\u001b[0;31m             \u001b[0mresult\u001b[0m \u001b[0;34m=\u001b[0m \u001b[0mself\u001b[0m\u001b[0;34m.\u001b[0m\u001b[0mforward\u001b[0m\u001b[0;34m(\u001b[0m\u001b[0;34m*\u001b[0m\u001b[0minput\u001b[0m\u001b[0;34m,\u001b[0m \u001b[0;34m**\u001b[0m\u001b[0mkwargs\u001b[0m\u001b[0;34m)\u001b[0m\u001b[0;34m\u001b[0m\u001b[0;34m\u001b[0m\u001b[0m\n\u001b[0m\u001b[1;32m    890\u001b[0m         for hook in itertools.chain(\n\u001b[1;32m    891\u001b[0m                 \u001b[0m_global_forward_hooks\u001b[0m\u001b[0;34m.\u001b[0m\u001b[0mvalues\u001b[0m\u001b[0;34m(\u001b[0m\u001b[0;34m)\u001b[0m\u001b[0;34m,\u001b[0m\u001b[0;34m\u001b[0m\u001b[0;34m\u001b[0m\u001b[0m\n",
      "\u001b[0;32m/usr/local/lib/python3.9/site-packages/torch/nn/modules/linear.py\u001b[0m in \u001b[0;36mforward\u001b[0;34m(self, input)\u001b[0m\n\u001b[1;32m     92\u001b[0m \u001b[0;34m\u001b[0m\u001b[0m\n\u001b[1;32m     93\u001b[0m     \u001b[0;32mdef\u001b[0m \u001b[0mforward\u001b[0m\u001b[0;34m(\u001b[0m\u001b[0mself\u001b[0m\u001b[0;34m,\u001b[0m \u001b[0minput\u001b[0m\u001b[0;34m:\u001b[0m \u001b[0mTensor\u001b[0m\u001b[0;34m)\u001b[0m \u001b[0;34m->\u001b[0m \u001b[0mTensor\u001b[0m\u001b[0;34m:\u001b[0m\u001b[0;34m\u001b[0m\u001b[0;34m\u001b[0m\u001b[0m\n\u001b[0;32m---> 94\u001b[0;31m         \u001b[0;32mreturn\u001b[0m \u001b[0mF\u001b[0m\u001b[0;34m.\u001b[0m\u001b[0mlinear\u001b[0m\u001b[0;34m(\u001b[0m\u001b[0minput\u001b[0m\u001b[0;34m,\u001b[0m \u001b[0mself\u001b[0m\u001b[0;34m.\u001b[0m\u001b[0mweight\u001b[0m\u001b[0;34m,\u001b[0m \u001b[0mself\u001b[0m\u001b[0;34m.\u001b[0m\u001b[0mbias\u001b[0m\u001b[0;34m)\u001b[0m\u001b[0;34m\u001b[0m\u001b[0;34m\u001b[0m\u001b[0m\n\u001b[0m\u001b[1;32m     95\u001b[0m \u001b[0;34m\u001b[0m\u001b[0m\n\u001b[1;32m     96\u001b[0m     \u001b[0;32mdef\u001b[0m \u001b[0mextra_repr\u001b[0m\u001b[0;34m(\u001b[0m\u001b[0mself\u001b[0m\u001b[0;34m)\u001b[0m \u001b[0;34m->\u001b[0m \u001b[0mstr\u001b[0m\u001b[0;34m:\u001b[0m\u001b[0;34m\u001b[0m\u001b[0;34m\u001b[0m\u001b[0m\n",
      "\u001b[0;32m/usr/local/lib/python3.9/site-packages/torch/nn/functional.py\u001b[0m in \u001b[0;36mlinear\u001b[0;34m(input, weight, bias)\u001b[0m\n\u001b[1;32m   1751\u001b[0m     \u001b[0;32mif\u001b[0m \u001b[0mhas_torch_function_variadic\u001b[0m\u001b[0;34m(\u001b[0m\u001b[0minput\u001b[0m\u001b[0;34m,\u001b[0m \u001b[0mweight\u001b[0m\u001b[0;34m)\u001b[0m\u001b[0;34m:\u001b[0m\u001b[0;34m\u001b[0m\u001b[0;34m\u001b[0m\u001b[0m\n\u001b[1;32m   1752\u001b[0m         \u001b[0;32mreturn\u001b[0m \u001b[0mhandle_torch_function\u001b[0m\u001b[0;34m(\u001b[0m\u001b[0mlinear\u001b[0m\u001b[0;34m,\u001b[0m \u001b[0;34m(\u001b[0m\u001b[0minput\u001b[0m\u001b[0;34m,\u001b[0m \u001b[0mweight\u001b[0m\u001b[0;34m)\u001b[0m\u001b[0;34m,\u001b[0m \u001b[0minput\u001b[0m\u001b[0;34m,\u001b[0m \u001b[0mweight\u001b[0m\u001b[0;34m,\u001b[0m \u001b[0mbias\u001b[0m\u001b[0;34m=\u001b[0m\u001b[0mbias\u001b[0m\u001b[0;34m)\u001b[0m\u001b[0;34m\u001b[0m\u001b[0;34m\u001b[0m\u001b[0m\n\u001b[0;32m-> 1753\u001b[0;31m     \u001b[0;32mreturn\u001b[0m \u001b[0mtorch\u001b[0m\u001b[0;34m.\u001b[0m\u001b[0m_C\u001b[0m\u001b[0;34m.\u001b[0m\u001b[0m_nn\u001b[0m\u001b[0;34m.\u001b[0m\u001b[0mlinear\u001b[0m\u001b[0;34m(\u001b[0m\u001b[0minput\u001b[0m\u001b[0;34m,\u001b[0m \u001b[0mweight\u001b[0m\u001b[0;34m,\u001b[0m \u001b[0mbias\u001b[0m\u001b[0;34m)\u001b[0m\u001b[0;34m\u001b[0m\u001b[0;34m\u001b[0m\u001b[0m\n\u001b[0m\u001b[1;32m   1754\u001b[0m \u001b[0;34m\u001b[0m\u001b[0m\n\u001b[1;32m   1755\u001b[0m \u001b[0;34m\u001b[0m\u001b[0m\n",
      "\u001b[0;31mKeyboardInterrupt\u001b[0m: "
     ]
    }
   ],
   "source": [
    "\n",
    "clf=MLP_class(input_dim,400,400,output_dim)\n",
    "optimizer = torch.optim.ASGD(clf.parameters(), lr=2e-1)\n",
    "for i in range(20000):\n",
    "    # set optimizer to zero grad to remove previous epoch gradients\n",
    "    if i==0: \n",
    "        optimizer.zero_grad()\n",
    "    # forward propagation\n",
    "    outputs = clf(  min_max_norm(torch.from_numpy(x_train_data.astype(np.float32)))\n",
    "                 )\n",
    "    loss  = accuracy(outputs,torch.from_numpy(y_train_data))\n",
    "    if (i%500)==0:\n",
    "        errs =torch.argmax(outputs,1)-torch.from_numpy(y_train_data)\n",
    "        accur  = 1e2*(torch.where(errs==0)[0].shape[0]/y_train_data.shape[0])\n",
    "        print('loss:',loss)\n",
    "        print('accur:',accur)\n",
    "\n",
    "    # backward propagation\n",
    "    loss.backward()\n",
    "    # optimize\n",
    "    optimizer.step()\n",
    "    if i == 0:\n",
    "        running_loss = 0\n",
    "    running_loss += loss.item()\n",
    "    #with torch.no_grad():\n",
    "    #    for param in clf.parameters():\n",
    "    #        param -= 1e-10 * param.grad\n"
   ]
  },
  {
   "cell_type": "code",
   "execution_count": null,
   "id": "704110c6",
   "metadata": {},
   "outputs": [],
   "source": [
    "#torch.argmax(outputs,1)[0]\n",
    "#torch.argmax(outputs,1)\n",
    "outputs[69,:]\n",
    "for i in range(outputs.shape[0]):\n",
    "    print(outputs[i])"
   ]
  },
  {
   "cell_type": "code",
   "execution_count": 101,
   "id": "deab9739",
   "metadata": {},
   "outputs": [
    {
     "data": {
      "text/plain": [
       "torch.Size([799, 6])"
      ]
     },
     "execution_count": 101,
     "metadata": {},
     "output_type": "execute_result"
    }
   ],
   "source": [
    "outputs.shape"
   ]
  },
  {
   "cell_type": "code",
   "execution_count": 90,
   "id": "2d769ecc",
   "metadata": {},
   "outputs": [
    {
     "data": {
      "text/plain": [
       "array([2, 2, 2, 3, 2, 2, 2, 4, 4, 2, 2, 2, 2, 2, 2, 2, 4, 2, 1, 3, 3, 2,\n",
       "       2, 2, 3, 2, 2, 2, 2, 3, 2, 3, 2, 3, 2, 3, 3, 4, 1, 2, 2, 1, 3, 2,\n",
       "       2, 1, 2, 2, 2, 2, 2, 3, 3, 2, 3, 2, 2, 2, 2, 3, 2, 2, 4, 2, 2, 2,\n",
       "       2, 2, 2, 3, 3, 2, 2, 1, 2, 2, 2, 3, 2, 1, 2, 2, 2, 2, 3, 2, 3, 2,\n",
       "       2, 2, 2, 3, 2, 2, 1, 3, 2, 2, 2, 3, 3, 3, 3, 2, 2, 2, 2, 2, 3, 2,\n",
       "       2, 2, 2, 3, 2, 3, 3, 3, 3, 3, 2, 3, 2, 2, 2, 2, 2, 2, 4, 2, 2, 2,\n",
       "       2, 3, 3, 2, 2, 2, 2, 2, 2, 2, 3, 2, 3, 2, 2, 2, 3, 3, 3, 1, 2, 2,\n",
       "       2, 2, 2, 2, 2, 3, 2, 1, 3, 2, 2, 2, 2, 1, 3, 2, 1, 3, 3, 3, 2, 2,\n",
       "       2, 3, 2, 2, 2, 2, 2, 2, 3, 2, 2, 2, 2, 2, 2, 3, 2, 2, 2, 2, 2, 3,\n",
       "       4, 1, 4, 2, 2, 2, 3, 4, 4, 2, 2, 4, 3, 3, 3, 2, 3, 2, 2, 2, 2, 2,\n",
       "       3, 2, 2, 3, 1, 3, 3, 2, 3, 2, 4, 3, 3, 2, 3, 3, 3, 3, 3, 3, 2, 3,\n",
       "       3, 4, 4, 3, 2, 2, 3, 3, 3, 3, 2, 2, 3, 2, 2, 2, 2, 4, 2, 1, 2, 2,\n",
       "       2, 4, 1, 5, 3, 3, 3, 3, 2, 2, 2, 3, 3, 3, 5, 4, 3, 4, 2, 4, 2, 2,\n",
       "       3, 3, 4, 2, 4, 2, 3, 3, 3, 2, 2, 2, 2, 2, 3, 3, 2, 2, 2, 3, 2, 3,\n",
       "       3, 3, 3, 3, 3, 2, 2, 3, 2, 3, 4, 3, 4, 2, 2, 3, 3, 3, 4, 2, 3, 2,\n",
       "       3, 3, 3, 2, 4, 4, 3, 2, 3, 4, 3, 3, 3, 3, 3, 2, 4, 3, 3, 3, 3, 3,\n",
       "       2, 2, 3, 3, 2, 4, 4, 3, 2, 3, 2, 2, 4, 3, 4, 2, 2, 4, 2, 3, 3, 2,\n",
       "       3, 4, 3, 4, 3, 3, 3, 3, 3, 3, 2, 3, 3, 3, 3, 4, 5, 3, 2, 2, 2, 4,\n",
       "       2, 3, 3, 2, 2, 3, 3, 3, 2, 3, 3, 4, 3, 1, 3, 2, 2, 4, 2, 2, 3, 2,\n",
       "       3, 2, 4, 4, 2, 4, 2, 4, 3, 3, 2, 3, 4, 2, 3, 2, 3, 2, 3, 3, 3, 2,\n",
       "       5, 3, 4, 4, 4, 3, 2, 2, 3, 3, 3, 3, 3, 4, 2, 5, 2, 2, 4, 0, 3, 2,\n",
       "       2, 2, 3, 2, 3, 3, 3, 2, 2, 3, 3, 2, 3, 2, 2, 3, 2, 3, 2, 5, 2, 2,\n",
       "       3, 2, 2, 3, 4, 3, 3, 4, 4, 3, 3, 5, 3, 2, 5, 3, 3, 4, 4, 4, 4, 4,\n",
       "       4, 3, 3, 4, 2, 3, 3, 4, 4, 2, 3, 0, 3, 2, 3, 2, 2, 2, 2, 2, 2, 3,\n",
       "       3, 2, 3, 2, 2, 3, 3, 3, 2, 3, 4, 2, 2, 3, 2, 3, 3, 2, 3, 3, 3, 3,\n",
       "       3, 3, 3, 2, 2, 2, 3, 2, 3, 3, 2, 2, 2, 3, 3, 2, 3, 3, 3, 3, 3, 3,\n",
       "       2, 1, 3, 3, 1, 2, 2, 3, 2, 2, 2, 4, 4, 3, 4, 2, 5, 4, 2, 3, 2, 2,\n",
       "       2, 2, 3, 3, 3, 3, 1, 3, 2, 3, 3, 3, 4, 3, 3, 3, 2, 2, 3, 2, 3, 2,\n",
       "       2, 3, 2, 2, 2, 2, 2, 3, 2, 2, 2, 2, 3, 2, 3, 2, 3, 1, 2, 2, 2, 2,\n",
       "       4, 3, 2, 2, 2, 2, 2, 4, 2, 1, 4, 3, 2, 2, 2, 3, 2, 2, 2, 4, 3, 1,\n",
       "       3, 2, 3, 3, 2, 2, 3, 3, 2, 3, 2, 2, 2, 2, 3, 2, 3, 2, 2, 2, 2, 3,\n",
       "       2, 2, 2, 2, 2, 2, 2, 2, 0, 2, 2, 2, 2, 3, 3, 3, 2, 3, 3, 3, 3, 1,\n",
       "       1, 2, 2, 2, 3, 3, 2, 2, 2, 2, 2, 3, 2, 2, 2, 2, 2, 2, 2, 2, 1, 2,\n",
       "       3, 2, 2, 3, 2, 2, 2, 2, 2, 2, 2, 3, 2, 2, 3, 2, 2, 2, 2, 3, 3, 2,\n",
       "       3, 3, 2, 2, 2, 2, 3, 3, 3, 2, 2, 2, 2, 2, 3, 2, 3, 3, 2, 2, 3, 2,\n",
       "       3, 2, 2, 3, 3, 2, 3, 3, 2, 2, 3, 2, 2, 2, 2, 2, 2, 3, 3, 2, 3, 2,\n",
       "       3, 2, 3, 2, 2, 4, 3])"
      ]
     },
     "execution_count": 90,
     "metadata": {},
     "output_type": "execute_result"
    }
   ],
   "source": [
    "y_train_data"
   ]
  },
  {
   "cell_type": "code",
   "execution_count": 102,
   "id": "a1ec0b6c",
   "metadata": {},
   "outputs": [],
   "source": [
    "#### Multinomial Neural Network #####\n"
   ]
  },
  {
   "cell_type": "code",
   "execution_count": 112,
   "id": "aeb86f37",
   "metadata": {},
   "outputs": [
    {
     "name": "stdout",
     "output_type": "stream",
     "text": [
      "W: torch.Size([25, 4])\n",
      "b torch.Size([25])\n"
     ]
    }
   ],
   "source": [
    "import torch.nn as nn\n",
    "import torch\n",
    "import matplotlib.pyplot as plt \n",
    "import pandas as pd\n",
    "from sklearn.datasets import load_iris\n",
    "import numpy as np\n",
    "\n",
    "\n",
    "iris = load_iris()\n",
    "X = iris.data\n",
    "Y = iris.target\n",
    "from sklearn.model_selection import train_test_split\n",
    "x, x_val, y, y_val = train_test_split(X, Y, test_size=0.33, random_state=42)\n",
    "\n",
    "\n",
    "x_train = x.reshape(-1, x.shape[1]).astype('float32')\n",
    "y_train = y\n",
    "\n",
    "x_val = x_val.reshape(-1, x_val.shape[1]).astype('float32')\n",
    "y_val = y_val\n",
    "\n",
    "x_val = torch.from_numpy(x_val)\n",
    "y_val = torch.from_numpy(y_val)\n",
    "\n",
    "from torch.utils.data import Dataset, DataLoader\n",
    "class Data(Dataset):\n",
    "    def __init__(self):\n",
    "        self.x=torch.from_numpy(x_train)\n",
    "        self.y=torch.from_numpy(y_train)\n",
    "        self.len=self.x.shape[0]\n",
    "    def __getitem__(self,index):      \n",
    "        return self.x[index], self.y[index]\n",
    "    def __len__(self):\n",
    "        return self.len\n",
    "\n",
    "data_set=Data()\n",
    "\n",
    "\n",
    "class Net(nn.Module):\n",
    "    def __init__(self,D_in,H,D_out):\n",
    "        super(Net,self).__init__()\n",
    "        self.linear1=nn.Linear(D_in,H)\n",
    "        self.linear2=nn.Linear(H,D_out)\n",
    "\n",
    "        \n",
    "    def forward(self,x):\n",
    "        x=torch.sigmoid(self.linear1(x))  \n",
    "        x=self.linear2(x)\n",
    "        return x\n",
    "input_dim=4     # how many Variables are in the dataset\n",
    "hidden_dim = 25 # hidden layers\n",
    "output_dim=3    # number of classes\n",
    "\n",
    "model=Net(input_dim,hidden_dim,output_dim)\n",
    "    \n",
    "criterion=nn.CrossEntropyLoss()\n",
    "\n",
    "\n",
    "learning_rate=0.1\n",
    "optimizer=torch.optim.SGD(model.parameters(), lr=learning_rate)\n",
    "\n",
    "\n",
    "import torch.nn as nn\n",
    "import torch\n",
    "import matplotlib.pyplot as plt \n",
    "import pandas as pd\n",
    "\n",
    "from sklearn.datasets import load_iris\n",
    "import numpy as np\n",
    "torch.manual_seed(2)\n",
    "\n",
    "iris = load_iris()\n",
    "X = iris.data\n",
    "Y = iris.target\n",
    "\n",
    "from sklearn.model_selection import train_test_split\n",
    "x, x_val, y, y_val = train_test_split(X, Y, test_size=0.33, random_state=42)\n",
    "x.shape, y.shape, x_val.shape, y_val.shape\n",
    "x_train = x.reshape(-1, x.shape[1]).astype('float32')\n",
    "y_train = y\n",
    "\n",
    "x_val = x_val.reshape(-1, x_val.shape[1]).astype('float32')\n",
    "y_val = y_val\n",
    "x_train.shape\n",
    "\n",
    "x_val = torch.from_numpy(x_val)\n",
    "y_val = torch.from_numpy(y_val)\n",
    "\n",
    "from torch.utils.data import Dataset, DataLoader\n",
    "class Data(Dataset):\n",
    "    def __init__(self):\n",
    "        self.x=torch.from_numpy(x_train)\n",
    "        self.y=torch.from_numpy(y_train)\n",
    "        self.len=self.x.shape[0]\n",
    "    def __getitem__(self,index):      \n",
    "        return self.x[index], self.y[index]\n",
    "    def __len__(self):\n",
    "        return self.len\n",
    "data_set=Data()\n",
    "trainloader=DataLoader(dataset=data_set,batch_size=64)\n",
    "class Net(nn.Module):\n",
    "    def __init__(self,D_in,H,D_out):\n",
    "        super(Net,self).__init__()\n",
    "        self.linear1=nn.Linear(D_in,H)\n",
    "        self.linear2=nn.Linear(H,D_out)        \n",
    "    def forward(self,x):\n",
    "        x=torch.sigmoid(self.linear1(x))  \n",
    "        x=self.linear2(x)\n",
    "        return x\n",
    "input_dim=4     # how many Variables are in the dataset\n",
    "hidden_dim = 25 # hidden layers\n",
    "output_dim=3    # number of classes\n",
    "# Instantiate model\n",
    "model=Net(input_dim,hidden_dim,output_dim)\n",
    "\n",
    "criterion=nn.CrossEntropyLoss()\n",
    "learning_rate=0.1\n",
    "optimizer=torch.optim.SGD(model.parameters(), lr=learning_rate)\n",
    "n_epochs=1000\n",
    "loss_list=[]\n",
    "\n"
   ]
  },
  {
   "cell_type": "code",
   "execution_count": 128,
   "id": "f4a47ea9",
   "metadata": {},
   "outputs": [],
   "source": [
    "x,y = trainloader\n",
    "#x\n",
    "#model(x)\n",
    "\n",
    "\n"
   ]
  },
  {
   "cell_type": "code",
   "execution_count": 134,
   "id": "391e5f0b",
   "metadata": {},
   "outputs": [
    {
     "data": {
      "text/plain": [
       "torch.utils.data.dataloader.DataLoader"
      ]
     },
     "execution_count": 134,
     "metadata": {},
     "output_type": "execute_result"
    }
   ],
   "source": [
    "type(trainloader)"
   ]
  },
  {
   "cell_type": "code",
   "execution_count": 156,
   "id": "3210a108",
   "metadata": {},
   "outputs": [
    {
     "data": {
      "text/plain": [
       "tensor([[5.1000, 3.8000, 1.6000, 0.2000],\n",
       "        [6.9000, 3.1000, 5.4000, 2.1000],\n",
       "        [5.9000, 3.0000, 4.2000, 1.5000],\n",
       "        [6.5000, 3.0000, 5.2000, 2.0000],\n",
       "        [5.7000, 2.6000, 3.5000, 1.0000],\n",
       "        [5.2000, 2.7000, 3.9000, 1.4000],\n",
       "        [6.1000, 3.0000, 4.6000, 1.4000],\n",
       "        [4.5000, 2.3000, 1.3000, 0.3000],\n",
       "        [6.6000, 2.9000, 4.6000, 1.3000],\n",
       "        [5.5000, 2.6000, 4.4000, 1.2000],\n",
       "        [5.3000, 3.7000, 1.5000, 0.2000],\n",
       "        [5.6000, 3.0000, 4.1000, 1.3000],\n",
       "        [7.3000, 2.9000, 6.3000, 1.8000],\n",
       "        [6.7000, 3.3000, 5.7000, 2.1000],\n",
       "        [5.1000, 3.7000, 1.5000, 0.4000],\n",
       "        [4.9000, 2.4000, 3.3000, 1.0000],\n",
       "        [6.7000, 3.3000, 5.7000, 2.5000],\n",
       "        [7.2000, 3.0000, 5.8000, 1.6000],\n",
       "        [4.9000, 3.6000, 1.4000, 0.1000],\n",
       "        [6.7000, 3.1000, 5.6000, 2.4000],\n",
       "        [4.9000, 3.0000, 1.4000, 0.2000],\n",
       "        [6.9000, 3.1000, 4.9000, 1.5000],\n",
       "        [7.4000, 2.8000, 6.1000, 1.9000],\n",
       "        [6.3000, 2.9000, 5.6000, 1.8000],\n",
       "        [5.7000, 2.8000, 4.1000, 1.3000],\n",
       "        [6.5000, 3.0000, 5.5000, 1.8000],\n",
       "        [6.3000, 2.3000, 4.4000, 1.3000],\n",
       "        [6.4000, 2.9000, 4.3000, 1.3000],\n",
       "        [5.6000, 2.8000, 4.9000, 2.0000],\n",
       "        [5.9000, 3.0000, 5.1000, 1.8000],\n",
       "        [5.4000, 3.4000, 1.7000, 0.2000],\n",
       "        [6.1000, 2.8000, 4.0000, 1.3000],\n",
       "        [4.9000, 2.5000, 4.5000, 1.7000],\n",
       "        [5.8000, 4.0000, 1.2000, 0.2000],\n",
       "        [5.8000, 2.6000, 4.0000, 1.2000],\n",
       "        [7.1000, 3.0000, 5.9000, 2.1000]])"
      ]
     },
     "execution_count": 156,
     "metadata": {},
     "output_type": "execute_result"
    }
   ],
   "source": [
    "#x, y in trainloader\n",
    "x"
   ]
  },
  {
   "cell_type": "code",
   "execution_count": 160,
   "id": "f8e2602c",
   "metadata": {},
   "outputs": [
    {
     "data": {
      "text/plain": [
       "torch.Size([36, 3])"
      ]
     },
     "execution_count": 160,
     "metadata": {},
     "output_type": "execute_result"
    }
   ],
   "source": [
    "z.shape"
   ]
  },
  {
   "cell_type": "code",
   "execution_count": 164,
   "id": "48e04a56",
   "metadata": {},
   "outputs": [
    {
     "data": {
      "text/plain": [
       "tensor([0, 2, 1, 2, 1, 1, 1, 0, 1, 1, 0, 1, 2, 2, 0, 1, 2, 2, 0, 2, 0, 1, 2, 2,\n",
       "        1, 2, 1, 1, 2, 2, 0, 1, 2, 0, 1, 2])"
      ]
     },
     "execution_count": 164,
     "metadata": {},
     "output_type": "execute_result"
    }
   ],
   "source": [
    "y"
   ]
  },
  {
   "cell_type": "code",
   "execution_count": 163,
   "id": "e3704b39",
   "metadata": {},
   "outputs": [
    {
     "data": {
      "text/plain": [
       "tensor(0.0281, grad_fn=<NllLossBackward>)"
      ]
     },
     "execution_count": 163,
     "metadata": {},
     "output_type": "execute_result"
    }
   ],
   "source": [
    "criterion(z,y)"
   ]
  },
  {
   "cell_type": "code",
   "execution_count": 130,
   "id": "710532cd",
   "metadata": {},
   "outputs": [],
   "source": [
    "#n_epochs\n",
    "for epoch in range(n_epochs):\n",
    "    for x, y in trainloader:\n",
    "        #clear gradient \n",
    "        optimizer.zero_grad()\n",
    "        #make a prediction \n",
    "        z=model(x)\n",
    "        # calculate loss, da Cross Entropy benutzt wird muss ich in den loss Klassen vorhersagen, \n",
    "        # also Wahrscheinlichkeit pro Klasse. Das mach torch.max(y,1)[1])\n",
    "        loss=criterion(z,y)\n",
    "        # calculate gradients of parameters \n",
    "        loss.backward()\n",
    "        # update parameters \n",
    "        optimizer.step()\n",
    "        \n",
    "        loss_list.append(loss.data)\n",
    "\n"
   ]
  },
  {
   "cell_type": "code",
   "execution_count": null,
   "id": "0d2b44af",
   "metadata": {},
   "outputs": [],
   "source": []
  }
 ],
 "metadata": {
  "kernelspec": {
   "display_name": "Python 3",
   "language": "python",
   "name": "python3"
  },
  "language_info": {
   "codemirror_mode": {
    "name": "ipython",
    "version": 3
   },
   "file_extension": ".py",
   "mimetype": "text/x-python",
   "name": "python",
   "nbconvert_exporter": "python",
   "pygments_lexer": "ipython3",
   "version": "3.9.5"
  }
 },
 "nbformat": 4,
 "nbformat_minor": 5
}
