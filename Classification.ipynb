{
 "cells": [
  {
   "cell_type": "code",
   "execution_count": 5,
   "id": "92b3ac57",
   "metadata": {},
   "outputs": [],
   "source": [
    "import numpy as np\n",
    "import os\n",
    "import time\n",
    "import pandas as pd\n",
    "norm = np.random.standard_normal\n",
    "resh = np.reshape"
   ]
  },
  {
   "cell_type": "code",
   "execution_count": null,
   "id": "5bd41e07",
   "metadata": {},
   "outputs": [],
   "source": []
  },
  {
   "cell_type": "code",
   "execution_count": 6,
   "id": "fda2609b",
   "metadata": {},
   "outputs": [],
   "source": [
    "from sklearn.datasets import load_iris\n",
    "iris = load_iris()\n",
    "X = iris.data\n",
    "Y = iris.target"
   ]
  },
  {
   "cell_type": "code",
   "execution_count": 7,
   "id": "15835689",
   "metadata": {},
   "outputs": [],
   "source": [
    "from sklearn.model_selection import train_test_split\n",
    "from sklearn.metrics import accuracy_score, precision_score, recall_score, f1_score\n",
    "from sklearn.tree import DecisionTreeClassifier"
   ]
  },
  {
   "cell_type": "code",
   "execution_count": 8,
   "id": "2f86a6d3",
   "metadata": {},
   "outputs": [
    {
     "name": "stdout",
     "output_type": "stream",
     "text": [
      "Accuracy: 0.9619047619047619\n"
     ]
    }
   ],
   "source": [
    "X_train, X_test, Y_train, Y_test = train_test_split(X, Y, test_size=0.7, random_state=42)\n",
    "# Initialize the classifier\n",
    "clf = DecisionTreeClassifier()\n",
    "# Train the classifier\n",
    "clf.fit(X_train/resh(np.mean(X_train,1),[-1,1]), Y_train)\n",
    "# Test the classifier\n",
    "Y_pred = clf.predict(X_test/resh(np.mean(X_test,1),[-1,1]) )\n",
    "# Test the Accuracy:\n",
    "print(\"Accuracy:\", accuracy_score(Y_test, Y_pred))\n"
   ]
  },
  {
   "cell_type": "code",
   "execution_count": 9,
   "id": "a6b67c9c",
   "metadata": {},
   "outputs": [
    {
     "name": "stdout",
     "output_type": "stream",
     "text": [
      "Accuracy: 0.9523809523809523\n"
     ]
    }
   ],
   "source": [
    "from sklearn.neighbors import KNeighborsClassifier\n",
    "clf = KNeighborsClassifier(n_neighbors=3)\n",
    "clf.fit(X_train/resh(np.mean(X_train,1),[-1,1]), Y_train)\n",
    "Y_pred = clf.predict(X_test/resh(np.mean(X_test,1),[-1,1]) )\n",
    "print(\"Accuracy:\", accuracy_score(Y_test, Y_pred))\n"
   ]
  },
  {
   "cell_type": "code",
   "execution_count": 10,
   "id": "5c0f8359",
   "metadata": {},
   "outputs": [
    {
     "name": "stdout",
     "output_type": "stream",
     "text": [
      "Accuracy: 0.9523809523809523\n"
     ]
    }
   ],
   "source": [
    "from sklearn.neural_network import MLPClassifier\n",
    "clf = MLPClassifier(hidden_layer_sizes=(10,), activation='relu', solver='sgd', learning_rate_init=0.1, max_iter=1000, random_state=42)\n",
    "clf.fit(X_train/resh(np.mean(X_train,1),[-1,1]), Y_train)\n",
    "Y_pred = clf.predict(X_test/resh(np.mean(X_test,1),[-1,1]) )\n",
    "print(\"Accuracy:\", accuracy_score(Y_test, Y_pred))\n"
   ]
  },
  {
   "cell_type": "code",
   "execution_count": 11,
   "id": "d333541c",
   "metadata": {},
   "outputs": [],
   "source": [
    "#pd.read_csv('/home/ajay/Desktop/ParisHousingClass.csv')"
   ]
  },
  {
   "cell_type": "code",
   "execution_count": null,
   "id": "11570bc1",
   "metadata": {},
   "outputs": [],
   "source": []
  },
  {
   "cell_type": "code",
   "execution_count": null,
   "id": "c7533388",
   "metadata": {},
   "outputs": [],
   "source": []
  }
 ],
 "metadata": {
  "kernelspec": {
   "display_name": "Python 3 (ipykernel)",
   "language": "python",
   "name": "python3"
  },
  "language_info": {
   "codemirror_mode": {
    "name": "ipython",
    "version": 3
   },
   "file_extension": ".py",
   "mimetype": "text/x-python",
   "name": "python",
   "nbconvert_exporter": "python",
   "pygments_lexer": "ipython3",
   "version": "3.9.5"
  }
 },
 "nbformat": 4,
 "nbformat_minor": 5
}
